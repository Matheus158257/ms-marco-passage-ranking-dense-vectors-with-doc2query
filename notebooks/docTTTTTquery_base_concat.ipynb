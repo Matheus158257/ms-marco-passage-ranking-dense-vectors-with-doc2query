{
 "cells": [
  {
   "cell_type": "markdown",
   "metadata": {},
   "source": [
    "# Base Concat MS MARCO"
   ]
  },
  {
   "cell_type": "markdown",
   "metadata": {},
   "source": [
    "## Local folders and files"
   ]
  },
  {
   "cell_type": "code",
   "execution_count": 4,
   "metadata": {},
   "outputs": [],
   "source": [
    "#Paths\n",
    "collections_path = 'C:\\\\Users\\\\Matheus\\\\Desktop\\\\Pós Graduação\\\\NLP\\\\Projeto\\\\Datasets\\\\MS MARCO 2020\\\\collections\\\\collection.tsv'\n",
    "qrels_train_path = 'C:\\\\Users\\\\Matheus\\\\Desktop\\\\Pós Graduação\\\\NLP\\\\Projeto\\\\Datasets\\\\MS MARCO 2020\\\\qrels\\\\qrels_train.tsv'\n",
    "qrels_dev_path = 'C:\\\\Users\\\\Matheus\\\\Desktop\\\\Pós Graduação\\\\NLP\\\\Projeto\\\\Datasets\\\\MS MARCO 2020\\\\qrels\\\\qrels_dev.tsv'\n",
    "queries_train_path = 'C:\\\\Users\\\\Matheus\\\\Desktop\\\\Pós Graduação\\\\NLP\\\\Projeto\\\\Datasets\\\\MS MARCO 2020\\\\queries\\\\queries_train.tsv'\n",
    "queries_dev_path = 'C:\\\\Users\\\\Matheus\\\\Desktop\\\\Pós Graduação\\\\NLP\\\\Projeto\\\\Datasets\\\\MS MARCO 2020\\\\queries\\\\queries_dev.tsv'\n",
    "queries_eval_path = 'C:\\\\Users\\\\Matheus\\\\Desktop\\\\Pós Graduação\\\\NLP\\\\Projeto\\\\Datasets\\\\MS MARCO 2020\\\\queries\\\\queries_eval.tsv'\n",
    "#Folders\n",
    "queries_topk_folder = 'C:\\\\Users\\\\Matheus\\\\Desktop\\\\Pós Graduação\\\\NLP\\\\Projeto\\\\Datasets\\\\MS MARCO 2020\\\\queries_topk'\n",
    "chuncks_folder = 'C:\\\\Users\\\\Matheus\\\\Desktop\\\\Pós Graduação\\\\NLP\\\\Projeto\\\\Datasets\\\\MS MARCO 2020\\\\train_triples_small\\\\triples_smalls_chunks'"
   ]
  },
  {
   "cell_type": "markdown",
   "metadata": {},
   "source": [
    "## Imports"
   ]
  },
  {
   "cell_type": "code",
   "execution_count": 5,
   "metadata": {},
   "outputs": [],
   "source": [
    "#Bibliotecas Padrão\n",
    "import os\n",
    "import random\n",
    "from typing import Dict\n",
    "from typing import List\n",
    "from typing import Tuple\n",
    "import re\n",
    "import gzip\n",
    "import csv\n",
    "import re\n",
    "\n",
    "\n",
    "# Other libs\n",
    "from rank_bm25 import BM25Okapi\n",
    "import ftfy\n",
    "\n",
    "#Bibliotecas Data Science\n",
    "import numpy as np\n",
    "import pandas as pd\n"
   ]
  },
  {
   "cell_type": "markdown",
   "metadata": {},
   "source": [
    "## Loading files"
   ]
  },
  {
   "cell_type": "code",
   "execution_count": 6,
   "metadata": {},
   "outputs": [],
   "source": [
    "def load_text_tsv(path,encoding=\"cp1252\",file=''):\n",
    "    if file != '':\n",
    "        complete_path = os.path.join(path,file)\n",
    "    else:\n",
    "        complete_path = path\n",
    "        \n",
    "    csv_file =  open(complete_path, encoding=encoding,mode = 'r', errors='ignore')\n",
    "    csv_reader = csv.reader(csv_file, delimiter='\\t')\n",
    "    rows = []\n",
    "    for row in csv_reader:\n",
    "        rows.append([(elem.replace(\"\\n\",\"\")) for elem in row])\n",
    "    return rows"
   ]
  },
  {
   "cell_type": "code",
   "execution_count": 11,
   "metadata": {},
   "outputs": [],
   "source": [
    "def load_txts_topk(folder,k=1,n=18,encoding=\"cp1252\"):\n",
    "    k = k if k<=80 else 80\n",
    "    n = n if n<=18 else 18\n",
    "    nsamples = [i for i in range(0,k)] #[0] ou [0,1,2,3...]\n",
    "    nparts = [i for i in range(0,n)] #cada bloco é de 17\n",
    "    extension_template2 = '-1004000'\n",
    "    \n",
    "    txts = []\n",
    "    for sample in nsamples:\n",
    "        rows = []\n",
    "        for part in nparts:\n",
    "            name_template = 'predicted_queries_topk_sample0' if sample>9 else 'predicted_queries_topk_sample00'\n",
    "            extension_template1 = '.txt0' if part>9 else '.txt00'\n",
    "            \n",
    "            file_name = f\"{name_template}{str(sample)}{extension_template1}{str(part)}{extension_template2}\"\n",
    "            path = os.path.join(folder,file_name)\n",
    "            txt_reader = open(path,mode = \"r\",encoding = encoding,errors='ignore')\n",
    "            for i,row in enumerate(txt_reader):\n",
    "                rows.append([row.replace(\"\\n\",\"\")])\n",
    "\n",
    "        txts.append(rows)\n",
    "    \n",
    "    return txts"
   ]
  },
  {
   "cell_type": "code",
   "execution_count": 5,
   "metadata": {},
   "outputs": [
    {
     "name": "stdout",
     "output_type": "stream",
     "text": [
      "Numero de linhas em collections:  8841823\n"
     ]
    },
    {
     "data": {
      "text/plain": [
       "[['0',\n",
       "  'The presence of communication amid scientific minds was equally important to the success of the Manhattan Project as scientific intellect was. The only cloud hanging over the impressive achievement of the atomic researchers and engineers is what their success truly meant; hundreds of thousands of innocent lives obliterated.'],\n",
       " ['1',\n",
       "  'The Manhattan Project and its atomic bomb helped bring an end to World War II. Its legacy of peaceful uses of atomic energy continues to have an impact on history and science.']]"
      ]
     },
     "execution_count": 5,
     "metadata": {},
     "output_type": "execute_result"
    }
   ],
   "source": [
    "collections = load_text_tsv(collections_path)\n",
    "print(\"Numero de linhas em collections: \",len(collections))\n",
    "collections[:2]"
   ]
  },
  {
   "cell_type": "code",
   "execution_count": 6,
   "metadata": {},
   "outputs": [
    {
     "name": "stdout",
     "output_type": "stream",
     "text": [
      "Numero de linhas em qrels_train:  532761\n"
     ]
    },
    {
     "data": {
      "text/plain": [
       "[['1185869', '0', '0', '1'], ['1185868', '0', '16', '1']]"
      ]
     },
     "execution_count": 6,
     "metadata": {},
     "output_type": "execute_result"
    }
   ],
   "source": [
    "qrels_train = load_text_tsv(qrels_train_path)\n",
    "print(\"Numero de linhas em qrels_train: \",len(qrels_train))\n",
    "qrels_train[:2]"
   ]
  },
  {
   "cell_type": "code",
   "execution_count": 7,
   "metadata": {},
   "outputs": [
    {
     "name": "stdout",
     "output_type": "stream",
     "text": [
      "Numero de linhas em qrels_dev:  59273\n"
     ]
    },
    {
     "data": {
      "text/plain": [
       "[['1102432', '0', '2026790', '1'], ['1102431', '0', '7066866', '1']]"
      ]
     },
     "execution_count": 7,
     "metadata": {},
     "output_type": "execute_result"
    }
   ],
   "source": [
    "qrels_dev = load_text_tsv(qrels_dev_path)\n",
    "print(\"Numero de linhas em qrels_dev: \",len(qrels_dev))\n",
    "qrels_dev[:2]"
   ]
  },
  {
   "cell_type": "code",
   "execution_count": 8,
   "metadata": {},
   "outputs": [
    {
     "name": "stdout",
     "output_type": "stream",
     "text": [
      "Numero de linhas em queries_train:  808731\n"
     ]
    },
    {
     "data": {
      "text/plain": [
       "[['121352', 'define extreme'],\n",
       " ['634306', 'what does chattel mean on credit history']]"
      ]
     },
     "execution_count": 8,
     "metadata": {},
     "output_type": "execute_result"
    }
   ],
   "source": [
    "queries_train = load_text_tsv(queries_train_path)\n",
    "print(\"Numero de linhas em queries_train: \",len(queries_train))\n",
    "queries_train[:2]"
   ]
  },
  {
   "cell_type": "code",
   "execution_count": 9,
   "metadata": {},
   "outputs": [
    {
     "name": "stdout",
     "output_type": "stream",
     "text": [
      "Numero de linhas em queries_dev:  101093\n"
     ]
    },
    {
     "data": {
      "text/plain": [
       "[['1048578', 'cost of endless pools/swim spa'], ['1048579', 'what is pcnt']]"
      ]
     },
     "execution_count": 9,
     "metadata": {},
     "output_type": "execute_result"
    }
   ],
   "source": [
    "queries_dev = load_text_tsv(queries_dev_path)\n",
    "print(\"Numero de linhas em queries_dev: \",len(queries_dev))\n",
    "queries_dev[:2]"
   ]
  },
  {
   "cell_type": "code",
   "execution_count": 10,
   "metadata": {},
   "outputs": [
    {
     "name": "stdout",
     "output_type": "stream",
     "text": [
      "Numero de linhas em queries_eval:  101092\n"
     ]
    },
    {
     "data": {
      "text/plain": [
       "[['786436', 'what is prescribed to treat thyroid storm'],\n",
       " ['9',\n",
       "  ' Refer to the data. Diminishing returns begin to occur with the hiring of the _________ unit of labor ']]"
      ]
     },
     "execution_count": 10,
     "metadata": {},
     "output_type": "execute_result"
    }
   ],
   "source": [
    "queries_eval = load_text_tsv(queries_eval_path)\n",
    "print(\"Numero de linhas em queries_eval: \",len(queries_eval))\n",
    "queries_eval[:2]"
   ]
  },
  {
   "cell_type": "code",
   "execution_count": 12,
   "metadata": {},
   "outputs": [],
   "source": [
    "topk_queries = load_txts_topk(queries_topk_folder)"
   ]
  },
  {
   "cell_type": "code",
   "execution_count": 13,
   "metadata": {},
   "outputs": [
    {
     "name": "stdout",
     "output_type": "stream",
     "text": [
      "Numero de queries geradas:  8841823\n"
     ]
    },
    {
     "data": {
      "text/plain": [
       "['what was important to the success of the manhattan project',\n",
       " 'what were a major contributions to the manhattan effort']"
      ]
     },
     "execution_count": 13,
     "metadata": {},
     "output_type": "execute_result"
    }
   ],
   "source": [
    "print('Numero de queries geradas: ',len(topk_queries[0]))\n",
    "topk_queries[0][:2]"
   ]
  },
  {
   "cell_type": "code",
   "execution_count": 3,
   "metadata": {},
   "outputs": [],
   "source": [
    "def fix_encode_write(text, tsv_writer):\n",
    "    try:\n",
    "        final_text = text.strip() + '\\n'\n",
    "        tsv_writer.writerow(ftfy.fix_encoding(final_text))\n",
    "    except Exception as e:\n",
    "        print(f\"Encoding fix error? {e}\\nTrying to save raw text\")\n",
    "        tsv_writer.writerow(final_text)"
   ]
  },
  {
   "cell_type": "code",
   "execution_count": 2,
   "metadata": {},
   "outputs": [],
   "source": [
    "import unicodedata\n",
    "def strip_accents(s):\n",
    "    return ''.join(c for c in unicodedata.normalize('NFD', s)if unicodedata.category(c) != 'Mn')"
   ]
  },
  {
   "cell_type": "code",
   "execution_count": null,
   "metadata": {},
   "outputs": [],
   "source": [
    "encoding=\"cp1252\"\n",
    "with open('doc2query_onek.tsv', 'w',newline='') as tsv_file:\n",
    "    tsv_writer = csv.writer(tsv_file, quoting=csv.QUOTE_NONNUMERIC, delimiter='\\t', quotechar='\"')\n",
    "#     tsv_writer = csv.writer(tsv_file, delimiter='\\t',quotechar='\"', lineterminator='\\n')\n",
    "\n",
    "#     for row in topk_queries[0]:\n",
    "    tsv_writer.writerow(topk_queries[0])\n",
    "    \n",
    "#         except:\n",
    "#             try:\n",
    "#                 row = re.sub(r'[^\\w]', ' ', row)\n",
    "#                 tsv_writer.writerow(ftfy.fix_encoding(row))\n",
    "#             except:\n",
    "#                 row = strip_accents(row)\n",
    "#                 tsv_writer.writerow(ftfy.fix_encoding(row))"
   ]
  },
  {
   "cell_type": "markdown",
   "metadata": {},
   "source": [
    "## Unificação das bases"
   ]
  },
  {
   "cell_type": "code",
   "execution_count": 62,
   "metadata": {},
   "outputs": [
    {
     "data": {
      "text/html": [
       "<div>\n",
       "<style scoped>\n",
       "    .dataframe tbody tr th:only-of-type {\n",
       "        vertical-align: middle;\n",
       "    }\n",
       "\n",
       "    .dataframe tbody tr th {\n",
       "        vertical-align: top;\n",
       "    }\n",
       "\n",
       "    .dataframe thead th {\n",
       "        text-align: right;\n",
       "    }\n",
       "</style>\n",
       "<table border=\"1\" class=\"dataframe\">\n",
       "  <thead>\n",
       "    <tr style=\"text-align: right;\">\n",
       "      <th></th>\n",
       "      <th>ID_PASSAGE</th>\n",
       "      <th>POSITIVE_PASSAGE</th>\n",
       "    </tr>\n",
       "  </thead>\n",
       "  <tbody>\n",
       "    <tr>\n",
       "      <th>0</th>\n",
       "      <td>0</td>\n",
       "      <td>The presence of communication amid scientific ...</td>\n",
       "    </tr>\n",
       "    <tr>\n",
       "      <th>1</th>\n",
       "      <td>1</td>\n",
       "      <td>The Manhattan Project and its atomic bomb help...</td>\n",
       "    </tr>\n",
       "    <tr>\n",
       "      <th>2</th>\n",
       "      <td>2</td>\n",
       "      <td>Essay on The Manhattan Project - The Manhattan...</td>\n",
       "    </tr>\n",
       "    <tr>\n",
       "      <th>3</th>\n",
       "      <td>3</td>\n",
       "      <td>The Manhattan Project was the name for a proje...</td>\n",
       "    </tr>\n",
       "    <tr>\n",
       "      <th>4</th>\n",
       "      <td>4</td>\n",
       "      <td>versions of each volume as well as complementa...</td>\n",
       "    </tr>\n",
       "  </tbody>\n",
       "</table>\n",
       "</div>"
      ],
      "text/plain": [
       "  ID_PASSAGE                                   POSITIVE_PASSAGE\n",
       "0          0  The presence of communication amid scientific ...\n",
       "1          1  The Manhattan Project and its atomic bomb help...\n",
       "2          2  Essay on The Manhattan Project - The Manhattan...\n",
       "3          3  The Manhattan Project was the name for a proje...\n",
       "4          4  versions of each volume as well as complementa..."
      ]
     },
     "execution_count": 62,
     "metadata": {},
     "output_type": "execute_result"
    }
   ],
   "source": [
    "df_collections = pd.DataFrame(collections,columns=['ID_PASSAGE','POSITIVE_PASSAGE'])\n",
    "df_collections.head()"
   ]
  },
  {
   "cell_type": "code",
   "execution_count": 63,
   "metadata": {},
   "outputs": [
    {
     "data": {
      "text/html": [
       "<div>\n",
       "<style scoped>\n",
       "    .dataframe tbody tr th:only-of-type {\n",
       "        vertical-align: middle;\n",
       "    }\n",
       "\n",
       "    .dataframe tbody tr th {\n",
       "        vertical-align: top;\n",
       "    }\n",
       "\n",
       "    .dataframe thead th {\n",
       "        text-align: right;\n",
       "    }\n",
       "</style>\n",
       "<table border=\"1\" class=\"dataframe\">\n",
       "  <thead>\n",
       "    <tr style=\"text-align: right;\">\n",
       "      <th></th>\n",
       "      <th>ID_PASSAGE</th>\n",
       "      <th>POSITIVE_PASSAGE</th>\n",
       "      <th>ARTIFICIAL_QUERY</th>\n",
       "    </tr>\n",
       "  </thead>\n",
       "  <tbody>\n",
       "    <tr>\n",
       "      <th>0</th>\n",
       "      <td>0</td>\n",
       "      <td>The presence of communication amid scientific ...</td>\n",
       "      <td>what was important to the success of the manha...</td>\n",
       "    </tr>\n",
       "    <tr>\n",
       "      <th>1</th>\n",
       "      <td>1</td>\n",
       "      <td>The Manhattan Project and its atomic bomb help...</td>\n",
       "      <td>what were a major contributions to the manhatt...</td>\n",
       "    </tr>\n",
       "    <tr>\n",
       "      <th>2</th>\n",
       "      <td>2</td>\n",
       "      <td>Essay on The Manhattan Project - The Manhattan...</td>\n",
       "      <td>what is manhattan project</td>\n",
       "    </tr>\n",
       "    <tr>\n",
       "      <th>3</th>\n",
       "      <td>3</td>\n",
       "      <td>The Manhattan Project was the name for a proje...</td>\n",
       "      <td>who led the manhattan project</td>\n",
       "    </tr>\n",
       "    <tr>\n",
       "      <th>4</th>\n",
       "      <td>4</td>\n",
       "      <td>versions of each volume as well as complementa...</td>\n",
       "      <td>what is manhattan project</td>\n",
       "    </tr>\n",
       "  </tbody>\n",
       "</table>\n",
       "</div>"
      ],
      "text/plain": [
       "  ID_PASSAGE                                   POSITIVE_PASSAGE  \\\n",
       "0          0  The presence of communication amid scientific ...   \n",
       "1          1  The Manhattan Project and its atomic bomb help...   \n",
       "2          2  Essay on The Manhattan Project - The Manhattan...   \n",
       "3          3  The Manhattan Project was the name for a proje...   \n",
       "4          4  versions of each volume as well as complementa...   \n",
       "\n",
       "                                    ARTIFICIAL_QUERY  \n",
       "0  what was important to the success of the manha...  \n",
       "1  what were a major contributions to the manhatt...  \n",
       "2                          what is manhattan project  \n",
       "3                      who led the manhattan project  \n",
       "4                          what is manhattan project  "
      ]
     },
     "execution_count": 63,
     "metadata": {},
     "output_type": "execute_result"
    }
   ],
   "source": [
    "df_collections.insert(2, \"ARTIFICIAL_QUERY\",topk_queries[0])\n",
    "df_collections.head()"
   ]
  },
  {
   "cell_type": "code",
   "execution_count": 60,
   "metadata": {},
   "outputs": [
    {
     "data": {
      "text/html": [
       "<div>\n",
       "<style scoped>\n",
       "    .dataframe tbody tr th:only-of-type {\n",
       "        vertical-align: middle;\n",
       "    }\n",
       "\n",
       "    .dataframe tbody tr th {\n",
       "        vertical-align: top;\n",
       "    }\n",
       "\n",
       "    .dataframe thead th {\n",
       "        text-align: right;\n",
       "    }\n",
       "</style>\n",
       "<table border=\"1\" class=\"dataframe\">\n",
       "  <thead>\n",
       "    <tr style=\"text-align: right;\">\n",
       "      <th></th>\n",
       "      <th>ID_QUERY</th>\n",
       "      <th>0</th>\n",
       "      <th>ID_PASSAGE</th>\n",
       "      <th>1</th>\n",
       "    </tr>\n",
       "  </thead>\n",
       "  <tbody>\n",
       "    <tr>\n",
       "      <th>0</th>\n",
       "      <td>1185869</td>\n",
       "      <td>0</td>\n",
       "      <td>0</td>\n",
       "      <td>1</td>\n",
       "    </tr>\n",
       "    <tr>\n",
       "      <th>1</th>\n",
       "      <td>1185868</td>\n",
       "      <td>0</td>\n",
       "      <td>16</td>\n",
       "      <td>1</td>\n",
       "    </tr>\n",
       "    <tr>\n",
       "      <th>2</th>\n",
       "      <td>597651</td>\n",
       "      <td>0</td>\n",
       "      <td>49</td>\n",
       "      <td>1</td>\n",
       "    </tr>\n",
       "    <tr>\n",
       "      <th>3</th>\n",
       "      <td>403613</td>\n",
       "      <td>0</td>\n",
       "      <td>60</td>\n",
       "      <td>1</td>\n",
       "    </tr>\n",
       "    <tr>\n",
       "      <th>4</th>\n",
       "      <td>1183785</td>\n",
       "      <td>0</td>\n",
       "      <td>389</td>\n",
       "      <td>1</td>\n",
       "    </tr>\n",
       "  </tbody>\n",
       "</table>\n",
       "</div>"
      ],
      "text/plain": [
       "  ID_QUERY  0 ID_PASSAGE  1\n",
       "0  1185869  0          0  1\n",
       "1  1185868  0         16  1\n",
       "2   597651  0         49  1\n",
       "3   403613  0         60  1\n",
       "4  1183785  0        389  1"
      ]
     },
     "execution_count": 60,
     "metadata": {},
     "output_type": "execute_result"
    }
   ],
   "source": [
    "df_qrels_train = pd.DataFrame(qrels_train,columns=['ID_QUERY','0','ID_PASSAGE','1'])\n",
    "df_qrels_train = df_qrels_train.drop(columns=['0', '1'])\n",
    "df_qrels_train.head()"
   ]
  },
  {
   "cell_type": "code",
   "execution_count": 61,
   "metadata": {},
   "outputs": [
    {
     "data": {
      "text/html": [
       "<div>\n",
       "<style scoped>\n",
       "    .dataframe tbody tr th:only-of-type {\n",
       "        vertical-align: middle;\n",
       "    }\n",
       "\n",
       "    .dataframe tbody tr th {\n",
       "        vertical-align: top;\n",
       "    }\n",
       "\n",
       "    .dataframe thead th {\n",
       "        text-align: right;\n",
       "    }\n",
       "</style>\n",
       "<table border=\"1\" class=\"dataframe\">\n",
       "  <thead>\n",
       "    <tr style=\"text-align: right;\">\n",
       "      <th></th>\n",
       "      <th>ID_QUERY</th>\n",
       "      <th>ORIGINAL_QUERY</th>\n",
       "    </tr>\n",
       "  </thead>\n",
       "  <tbody>\n",
       "    <tr>\n",
       "      <th>0</th>\n",
       "      <td>121352</td>\n",
       "      <td>define extreme</td>\n",
       "    </tr>\n",
       "    <tr>\n",
       "      <th>1</th>\n",
       "      <td>634306</td>\n",
       "      <td>what does chattel mean on credit history</td>\n",
       "    </tr>\n",
       "    <tr>\n",
       "      <th>2</th>\n",
       "      <td>920825</td>\n",
       "      <td>what was the great leap forward brainly</td>\n",
       "    </tr>\n",
       "    <tr>\n",
       "      <th>3</th>\n",
       "      <td>510633</td>\n",
       "      <td>tattoo fixers how much does it cost</td>\n",
       "    </tr>\n",
       "    <tr>\n",
       "      <th>4</th>\n",
       "      <td>737889</td>\n",
       "      <td>what is decentralization process.</td>\n",
       "    </tr>\n",
       "  </tbody>\n",
       "</table>\n",
       "</div>"
      ],
      "text/plain": [
       "  ID_QUERY                            ORIGINAL_QUERY\n",
       "0   121352                            define extreme\n",
       "1   634306  what does chattel mean on credit history\n",
       "2   920825   what was the great leap forward brainly\n",
       "3   510633       tattoo fixers how much does it cost\n",
       "4   737889         what is decentralization process."
      ]
     },
     "execution_count": 61,
     "metadata": {},
     "output_type": "execute_result"
    }
   ],
   "source": [
    "df_queries_train = pd.DataFrame(queries_train,columns=['ID_QUERY','ORIGINAL_QUERY'])\n",
    "df_queries_train.head()"
   ]
  },
  {
   "cell_type": "code",
   "execution_count": 64,
   "metadata": {},
   "outputs": [
    {
     "data": {
      "text/html": [
       "<div>\n",
       "<style scoped>\n",
       "    .dataframe tbody tr th:only-of-type {\n",
       "        vertical-align: middle;\n",
       "    }\n",
       "\n",
       "    .dataframe tbody tr th {\n",
       "        vertical-align: top;\n",
       "    }\n",
       "\n",
       "    .dataframe thead th {\n",
       "        text-align: right;\n",
       "    }\n",
       "</style>\n",
       "<table border=\"1\" class=\"dataframe\">\n",
       "  <thead>\n",
       "    <tr style=\"text-align: right;\">\n",
       "      <th></th>\n",
       "      <th>ID_PASSAGE</th>\n",
       "      <th>POSITIVE_PASSAGE</th>\n",
       "      <th>ARTIFICIAL_QUERY</th>\n",
       "      <th>ID_QUERY</th>\n",
       "      <th>0</th>\n",
       "      <th>1</th>\n",
       "    </tr>\n",
       "  </thead>\n",
       "  <tbody>\n",
       "    <tr>\n",
       "      <th>0</th>\n",
       "      <td>0</td>\n",
       "      <td>The presence of communication amid scientific ...</td>\n",
       "      <td>what was important to the success of the manha...</td>\n",
       "      <td>1185869</td>\n",
       "      <td>0</td>\n",
       "      <td>1</td>\n",
       "    </tr>\n",
       "    <tr>\n",
       "      <th>1</th>\n",
       "      <td>1</td>\n",
       "      <td>The Manhattan Project and its atomic bomb help...</td>\n",
       "      <td>what were a major contributions to the manhatt...</td>\n",
       "      <td>NaN</td>\n",
       "      <td>NaN</td>\n",
       "      <td>NaN</td>\n",
       "    </tr>\n",
       "    <tr>\n",
       "      <th>2</th>\n",
       "      <td>2</td>\n",
       "      <td>Essay on The Manhattan Project - The Manhattan...</td>\n",
       "      <td>what is manhattan project</td>\n",
       "      <td>NaN</td>\n",
       "      <td>NaN</td>\n",
       "      <td>NaN</td>\n",
       "    </tr>\n",
       "    <tr>\n",
       "      <th>3</th>\n",
       "      <td>3</td>\n",
       "      <td>The Manhattan Project was the name for a proje...</td>\n",
       "      <td>who led the manhattan project</td>\n",
       "      <td>NaN</td>\n",
       "      <td>NaN</td>\n",
       "      <td>NaN</td>\n",
       "    </tr>\n",
       "    <tr>\n",
       "      <th>4</th>\n",
       "      <td>4</td>\n",
       "      <td>versions of each volume as well as complementa...</td>\n",
       "      <td>what is manhattan project</td>\n",
       "      <td>NaN</td>\n",
       "      <td>NaN</td>\n",
       "      <td>NaN</td>\n",
       "    </tr>\n",
       "  </tbody>\n",
       "</table>\n",
       "</div>"
      ],
      "text/plain": [
       "  ID_PASSAGE                                   POSITIVE_PASSAGE  \\\n",
       "0          0  The presence of communication amid scientific ...   \n",
       "1          1  The Manhattan Project and its atomic bomb help...   \n",
       "2          2  Essay on The Manhattan Project - The Manhattan...   \n",
       "3          3  The Manhattan Project was the name for a proje...   \n",
       "4          4  versions of each volume as well as complementa...   \n",
       "\n",
       "                                    ARTIFICIAL_QUERY ID_QUERY    0    1  \n",
       "0  what was important to the success of the manha...  1185869    0    1  \n",
       "1  what were a major contributions to the manhatt...      NaN  NaN  NaN  \n",
       "2                          what is manhattan project      NaN  NaN  NaN  \n",
       "3                      who led the manhattan project      NaN  NaN  NaN  \n",
       "4                          what is manhattan project      NaN  NaN  NaN  "
      ]
     },
     "execution_count": 64,
     "metadata": {},
     "output_type": "execute_result"
    }
   ],
   "source": [
    "df1 = pd.merge(df_collections, df_qrels_train, on='ID_PASSAGE',how='inner')\n",
    "df1.head()"
   ]
  },
  {
   "cell_type": "code",
   "execution_count": 65,
   "metadata": {},
   "outputs": [
    {
     "data": {
      "text/html": [
       "<div>\n",
       "<style scoped>\n",
       "    .dataframe tbody tr th:only-of-type {\n",
       "        vertical-align: middle;\n",
       "    }\n",
       "\n",
       "    .dataframe tbody tr th {\n",
       "        vertical-align: top;\n",
       "    }\n",
       "\n",
       "    .dataframe thead th {\n",
       "        text-align: right;\n",
       "    }\n",
       "</style>\n",
       "<table border=\"1\" class=\"dataframe\">\n",
       "  <thead>\n",
       "    <tr style=\"text-align: right;\">\n",
       "      <th></th>\n",
       "      <th>ID_PASSAGE</th>\n",
       "      <th>POSITIVE_PASSAGE</th>\n",
       "      <th>ARTIFICIAL_QUERY</th>\n",
       "      <th>ID_QUERY</th>\n",
       "      <th>0</th>\n",
       "      <th>1</th>\n",
       "      <th>ORIGINAL_QUERY</th>\n",
       "    </tr>\n",
       "  </thead>\n",
       "  <tbody>\n",
       "    <tr>\n",
       "      <th>0</th>\n",
       "      <td>0</td>\n",
       "      <td>The presence of communication amid scientific ...</td>\n",
       "      <td>what was important to the success of the manha...</td>\n",
       "      <td>1185869</td>\n",
       "      <td>0</td>\n",
       "      <td>1</td>\n",
       "      <td>)what was the immediate impact of the success ...</td>\n",
       "    </tr>\n",
       "    <tr>\n",
       "      <th>1</th>\n",
       "      <td>1</td>\n",
       "      <td>The Manhattan Project and its atomic bomb help...</td>\n",
       "      <td>what were a major contributions to the manhatt...</td>\n",
       "      <td>NaN</td>\n",
       "      <td>NaN</td>\n",
       "      <td>NaN</td>\n",
       "      <td>NaN</td>\n",
       "    </tr>\n",
       "    <tr>\n",
       "      <th>2</th>\n",
       "      <td>2</td>\n",
       "      <td>Essay on The Manhattan Project - The Manhattan...</td>\n",
       "      <td>what is manhattan project</td>\n",
       "      <td>NaN</td>\n",
       "      <td>NaN</td>\n",
       "      <td>NaN</td>\n",
       "      <td>NaN</td>\n",
       "    </tr>\n",
       "    <tr>\n",
       "      <th>3</th>\n",
       "      <td>3</td>\n",
       "      <td>The Manhattan Project was the name for a proje...</td>\n",
       "      <td>who led the manhattan project</td>\n",
       "      <td>NaN</td>\n",
       "      <td>NaN</td>\n",
       "      <td>NaN</td>\n",
       "      <td>NaN</td>\n",
       "    </tr>\n",
       "    <tr>\n",
       "      <th>4</th>\n",
       "      <td>4</td>\n",
       "      <td>versions of each volume as well as complementa...</td>\n",
       "      <td>what is manhattan project</td>\n",
       "      <td>NaN</td>\n",
       "      <td>NaN</td>\n",
       "      <td>NaN</td>\n",
       "      <td>NaN</td>\n",
       "    </tr>\n",
       "  </tbody>\n",
       "</table>\n",
       "</div>"
      ],
      "text/plain": [
       "  ID_PASSAGE                                   POSITIVE_PASSAGE  \\\n",
       "0          0  The presence of communication amid scientific ...   \n",
       "1          1  The Manhattan Project and its atomic bomb help...   \n",
       "2          2  Essay on The Manhattan Project - The Manhattan...   \n",
       "3          3  The Manhattan Project was the name for a proje...   \n",
       "4          4  versions of each volume as well as complementa...   \n",
       "\n",
       "                                    ARTIFICIAL_QUERY ID_QUERY    0    1  \\\n",
       "0  what was important to the success of the manha...  1185869    0    1   \n",
       "1  what were a major contributions to the manhatt...      NaN  NaN  NaN   \n",
       "2                          what is manhattan project      NaN  NaN  NaN   \n",
       "3                      who led the manhattan project      NaN  NaN  NaN   \n",
       "4                          what is manhattan project      NaN  NaN  NaN   \n",
       "\n",
       "                                      ORIGINAL_QUERY  \n",
       "0  )what was the immediate impact of the success ...  \n",
       "1                                                NaN  \n",
       "2                                                NaN  \n",
       "3                                                NaN  \n",
       "4                                                NaN  "
      ]
     },
     "execution_count": 65,
     "metadata": {},
     "output_type": "execute_result"
    }
   ],
   "source": [
    "df_final_train = pd.merge(df1, df_queries_train, on='ID_QUERY',how='inner')\n",
    "df_final_train.head()"
   ]
  },
  {
   "cell_type": "code",
   "execution_count": null,
   "metadata": {},
   "outputs": [],
   "source": [
    "compression_opts = dict(method='zip', archive_name='train_quadruples.csv') \n",
    "df_final_train.to_csv('train_quadruples.zip', index=False,compression=compression_opts)"
   ]
  },
  {
   "cell_type": "code",
   "execution_count": 54,
   "metadata": {},
   "outputs": [
    {
     "ename": "KeyboardInterrupt",
     "evalue": "",
     "output_type": "error",
     "traceback": [
      "\u001b[1;31m---------------------------------------------------------------------------\u001b[0m",
      "\u001b[1;31mKeyboardInterrupt\u001b[0m                         Traceback (most recent call last)",
      "\u001b[1;32m<timed exec>\u001b[0m in \u001b[0;36m<module>\u001b[1;34m\u001b[0m\n",
      "\u001b[1;31mKeyboardInterrupt\u001b[0m: "
     ]
    }
   ],
   "source": [
    "%%time\n",
    "new_table = [['PASSAGE','POSITIVE_QUERY','ORIGINAL_QUERY']]\n",
    "for passage,artificial_query in zip(collections,topk_queries[0]):\n",
    "    new_table_line = [passage[1],artificial_query]\n",
    "    \n",
    "    for query in queries_train: \n",
    "        for qrel in qrels_train:\n",
    "            if ((qrel[0] == passage[0]) and (qrel[2] == query[0])):\n",
    "                new_table_line.append(queries_train[1])\n",
    "                break\n",
    "\n",
    "\n",
    "    new_table.append(new_table_line) \n",
    "    if i ==10:\n",
    "        break"
   ]
  },
  {
   "cell_type": "code",
   "execution_count": 55,
   "metadata": {},
   "outputs": [
    {
     "data": {
      "text/plain": [
       "[['PASSAGE', 'POSITIVE_QUERY', 'ORIGINAL_QUERY']]"
      ]
     },
     "execution_count": 55,
     "metadata": {},
     "output_type": "execute_result"
    }
   ],
   "source": [
    "new_table"
   ]
  },
  {
   "cell_type": "code",
   "execution_count": null,
   "metadata": {},
   "outputs": [],
   "source": [
    "for row in new_table:\n",
    "    with open(\"output.csv\", \"wb\") as f:\n",
    "        writer = csv.writer(f)\n",
    "        writer.writerows(row)"
   ]
  },
  {
   "cell_type": "markdown",
   "metadata": {},
   "source": [
    "## Unificação de uma vez só"
   ]
  },
  {
   "cell_type": "code",
   "execution_count": null,
   "metadata": {},
   "outputs": [],
   "source": [
    "def create_table(step='train',topk):\n",
    "    collections_path = 'C:\\\\Users\\\\Matheus\\\\Desktop\\\\Pós Graduação\\\\NLP\\\\Projeto\\\\Datasets\\\\MS MARCO 2020\\\\collections\\\\collection.tsv'\n",
    "    qrels_train_path = 'C:\\\\Users\\\\Matheus\\\\Desktop\\\\Pós Graduação\\\\NLP\\\\Projeto\\\\Datasets\\\\MS MARCO 2020\\\\qrels\\\\qrels_train.tsv'\n",
    "    qrels_dev_path = 'C:\\\\Users\\\\Matheus\\\\Desktop\\\\Pós Graduação\\\\NLP\\\\Projeto\\\\Datasets\\\\MS MARCO 2020\\\\qrels\\\\qrels_dev.tsv'\n",
    "    queries_train_path = 'C:\\\\Users\\\\Matheus\\\\Desktop\\\\Pós Graduação\\\\NLP\\\\Projeto\\\\Datasets\\\\MS MARCO 2020\\\\queries\\\\queries_train.tsv'\n",
    "    queries_dev_path = 'C:\\\\Users\\\\Matheus\\\\Desktop\\\\Pós Graduação\\\\NLP\\\\Projeto\\\\Datasets\\\\MS MARCO 2020\\\\queries\\\\queries_dev.tsv'\n",
    "    queries_eval_path = 'C:\\\\Users\\\\Matheus\\\\Desktop\\\\Pós Graduação\\\\NLP\\\\Projeto\\\\Datasets\\\\MS MARCO 2020\\\\queries\\\\queries_eval.tsv'\n",
    "\n",
    "    \n",
    "    if step == 'train':\n",
    "        qrels_path = qrels_train_path\n",
    "        queries_path = queries_train_path\n",
    "    else if step == 'dev':\n",
    "        qrels_path = qrels_dev_path\n",
    "        queries_path = queries_dev_path\n",
    "        \n",
    "     \n",
    "    with open(complete_path, encoding=encoding, mode = 'r', errors='ignore') as collections_csv_file:\n",
    "        with open(queries_path, encoding=encoding, mode = 'r', errors='ignore') as queries_csv_file:\n",
    "            with open(qrels_path, encoding=encoding, mode = 'r', errors='ignore') as qrels_csv_file:\n",
    "                with open(\"output.csv\", \"w\") as f:\n",
    "        \n",
    "                    collections_reader = csv.reader(collections_csv_file, delimiter='\\t')\n",
    "                    queries_reader = csv.reader(queries_csv_file, delimiter='\\t')\n",
    "                    qrels_reader = csv.reader(collections_csv_file, delimiter='\\t')\n",
    "                    \n",
    "                    \n",
    "                    new_table = [['PASSAGE','POSITIVE_QUERY','ORIGINAL_QUERY']]\n",
    "                    \n",
    "                    for passage,artificial_query in zip(collections,topk_queries[0]):\n",
    "                        new_table_line = [passage[1],artificial_query]\n",
    "                        for qrel in qrels_train:\n",
    "                            if ((qrel[0] == passage[0]) and (qrel[2] == queries_train[0])):\n",
    "                                new_table_line.append(queries_train[1])\n",
    "\n",
    "                        new_table.append(new_table_line) \n",
    "                    \n",
    "                    \n",
    "                    for row in csv_reader:\n",
    "                        rows.append(fix_text(row.replace(\"\\n\",\"\")))\n",
    "    \n",
    "    \n",
    "    \n",
    "    \n",
    "    \n",
    "    rows = []\n",
    "    for row in csv_reader:\n",
    "        rows.append(fix_text(row.replace(\"\\n\",\"\")))\n",
    "    return rows"
   ]
  },
  {
   "cell_type": "code",
   "execution_count": null,
   "metadata": {},
   "outputs": [],
   "source": []
  }
 ],
 "metadata": {
  "kernelspec": {
   "display_name": "myenv",
   "language": "python",
   "name": "myenv"
  },
  "language_info": {
   "codemirror_mode": {
    "name": "ipython",
    "version": 3
   },
   "file_extension": ".py",
   "mimetype": "text/x-python",
   "name": "python",
   "nbconvert_exporter": "python",
   "pygments_lexer": "ipython3",
   "version": "3.8.3"
  }
 },
 "nbformat": 4,
 "nbformat_minor": 4
}
