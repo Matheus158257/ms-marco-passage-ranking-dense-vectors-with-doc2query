{
 "cells": [
  {
   "cell_type": "markdown",
   "metadata": {
    "colab_type": "text",
    "id": "iJRwyGnmwKPh"
   },
   "source": [
    "# docTTTTTquery MSMARCO"
   ]
  },
  {
   "cell_type": "code",
   "execution_count": 1,
   "metadata": {
    "colab": {},
    "colab_type": "code",
    "id": "850cN4r-wZ7A"
   },
   "outputs": [],
   "source": [
    "# !pip install transformers --quiet\n",
    "# !pip install torch --quiet\n",
    "# !pip install pytorch-lightning --quiet\n",
    "# !pip install pyDrive --quiet"
   ]
  },
  {
   "cell_type": "code",
   "execution_count": 2,
   "metadata": {},
   "outputs": [],
   "source": [
    "triples_path = 'C:\\\\Users\\\\Matheus\\\\Desktop\\\\Pós Graduação\\\\NLP\\\\Projeto\\\\Datasets\\\\MS MARCO 2020\\\\train_triples_small\\\\triples.train.small.tsv'\n",
    "chuncks_path = 'C:\\\\Users\\\\Matheus\\\\Desktop\\\\Pós Graduação\\\\NLP\\\\Projeto\\\\Datasets\\\\MS MARCO 2020\\\\train_triples_small\\\\triples_smalls_chunks'\n",
    "model_checkpoint_path = 'C:\\\\Users\\\\Matheus\\\\Desktop\\\\Pós Graduação\\\\NLP\\\\Projeto\\\\Vetores Densos\\\\checkpoint docTTTTTquery\\\\model.ckpt-1004000'"
   ]
  },
  {
   "cell_type": "code",
   "execution_count": 12,
   "metadata": {
    "colab": {
     "base_uri": "https://localhost:8080/",
     "height": 86
    },
    "colab_type": "code",
    "id": "VMCTKGFUv-XS",
    "outputId": "93a97341-324e-46c5-c0d8-b76ca192e414"
   },
   "outputs": [],
   "source": [
    "#Bibliotecas Padrão\n",
    "import os\n",
    "import random\n",
    "from typing import Dict\n",
    "from typing import List\n",
    "from typing import Tuple\n",
    "import re\n",
    "import gzip\n",
    "import csv\n",
    "import zipfile\n",
    "import ftfy \n",
    "    \n",
    "#Bibliotecas Data Science\n",
    "from sklearn.model_selection import train_test_split\n",
    "import numpy as np\n",
    "import pandas as pd\n",
    "\n",
    "#Bibliotecas Pytorch\n",
    "import torch\n",
    "from torch.utils.data import Dataset\n",
    "from torch import Tensor\n",
    "from torch.utils.data import DataLoader\n",
    "import torch.nn.functional as F\n",
    "\n",
    "#Bibliotecas transfromers\n",
    "from transformers import T5ForConditionalGeneration\n",
    "from transformers import T5Tokenizer\n",
    "\n",
    "# Hardware\n",
    "from multiprocessing import cpu_count\n"
   ]
  },
  {
   "cell_type": "code",
   "execution_count": 4,
   "metadata": {},
   "outputs": [
    {
     "name": "stdout",
     "output_type": "stream",
     "text": [
      "cpu\n"
     ]
    }
   ],
   "source": [
    "# Device\n",
    "dev = \"cuda\" if torch.cuda.is_available() else \"cpu\"\n",
    "print(dev)\n",
    "device = torch.device(dev)"
   ]
  },
  {
   "cell_type": "markdown",
   "metadata": {},
   "source": [
    "## Trabalhando com arquivo csv "
   ]
  },
  {
   "cell_type": "markdown",
   "metadata": {},
   "source": [
    "Funções auxiliares"
   ]
  },
  {
   "cell_type": "code",
   "execution_count": 17,
   "metadata": {
    "colab": {
     "base_uri": "https://localhost:8080/",
     "height": 432
    },
    "colab_type": "code",
    "id": "Jfmk-9z2oBRF",
    "outputId": "4bfedaeb-5c47-476a-d9d1-762f8792b4ef"
   },
   "outputs": [],
   "source": [
    "def split_csv(path, delimiter=\"\\t\", row_limit=30000, \n",
    "    output_name_template='triples_smalls_chunk_%s.csv', output_path='.', keep_headers=True,only_first=True):\n",
    "    \"\"\"\n",
    "    Splits a CSV file into multiple pieces.\n",
    "    \n",
    "    A quick bastardization of the Python CSV library.\n",
    "    Arguments:\n",
    "        `row_limit`: The number of rows you want in each output file\n",
    "        `output_name_template`: A %s-style template for the numbered output files.\n",
    "        `output_path`: Where to stick the output files\n",
    "        `keep_headers`: Whether or not to print the headers in each output file.\n",
    "    Example usage:\n",
    "    \n",
    "        >> from toolbox import csv_splitter;\n",
    "        >> csv_splitter.split(csv.splitter(open('/home/ben/Desktop/lasd/2009-01-02 [00.00.00].csv', 'r')));\n",
    "    \n",
    "    \"\"\"\n",
    "    tsv_file  = open(path,encoding=\"cp1252\",mode = 'r', errors='ignore')\n",
    "    reader = csv.reader(tsv_file, delimiter=\"\\t\")\n",
    "\n",
    "    current_piece = 0\n",
    "    current_out_path = os.path.join( output_name_template  % current_piece)\n",
    "    current_out_path = os.path.join( output_path,current_out_path)\n",
    "    \n",
    "    current_limit = row_limit\n",
    "\n",
    "    rowlist = []\n",
    "\n",
    "    for i, row in enumerate(reader):\n",
    "        if (i + 1) > current_limit:\n",
    "            current_piece += 1\n",
    "            current_limit = row_limit * (current_piece+1)\n",
    "            current_out_path = os.path.join( output_name_template  % current_piece )\n",
    "            current_out_path = os.path.join( output_path,current_out_path)\n",
    "            print(current_out_path)\n",
    "            with open(current_out_path, 'w', newline='') as file:\n",
    "                writer = csv.writer(file, quoting=csv.QUOTE_NONNUMERIC, delimiter='\\t', quotechar='\"')\n",
    "                writer.writerows(rowlist)\n",
    "            rowlist = []\n",
    "            if (only_first):  \n",
    "                break\n",
    "                \n",
    "\n",
    "        row_elems = [ftfy.fix_encoding(elem.replace(\"Ã¢Â€Â™\",\"\").replace(\"Ã¢Â€Âœ\",\"\")) for elem in row]\n",
    "#         row_elems = [ftfy.fix_encoding(elem) for elem in row]\n",
    "        rowlist.append(row_elems)"
   ]
  },
  {
   "cell_type": "code",
   "execution_count": 10,
   "metadata": {},
   "outputs": [],
   "source": [
    "def load_text_tsv_chunck(path,file):\n",
    "    complete_path = os.path.join(path,file)\n",
    "    csv_file =  open(complete_path, encoding=\"cp1252\",mode = 'r')\n",
    "    csv_reader = csv.reader(csv_file, delimiter='\\t')\n",
    "    rows = []\n",
    "    for row in csv_reader:\n",
    "        rows.append(row)\n",
    "    return rows"
   ]
  },
  {
   "cell_type": "markdown",
   "metadata": {
    "colab_type": "text",
    "id": "c9YEAbCWGAyZ"
   },
   "source": [
    "### Caso queira trabalhar com uma porção de tsv(arquivos menores)\n",
    "\n",
    "\n"
   ]
  },
  {
   "cell_type": "markdown",
   "metadata": {},
   "source": [
    "Checando a extensão do encoding"
   ]
  },
  {
   "cell_type": "code",
   "execution_count": 7,
   "metadata": {},
   "outputs": [
    {
     "name": "stdout",
     "output_type": "stream",
     "text": [
      "<_io.TextIOWrapper name='C:\\\\Users\\\\Matheus\\\\Desktop\\\\Pós Graduação\\\\NLP\\\\Projeto\\\\Datasets\\\\MS MARCO 2020\\\\train_triples_small\\\\triples.train.small.tsv' mode='r' encoding='cp1252'>\n"
     ]
    }
   ],
   "source": [
    "with open(triples_path) as f:\n",
    "    print(f)"
   ]
  },
  {
   "cell_type": "markdown",
   "metadata": {},
   "source": [
    "Separação dos dados"
   ]
  },
  {
   "cell_type": "code",
   "execution_count": 19,
   "metadata": {},
   "outputs": [],
   "source": [
    "split_csv(triples_path, delimiter=\"\\t\", row_limit=500000,  output_name_template='triples_smalls_chunk_%s.csv', output_path=chuncks_path, keep_headers=True,only_first=True)"
   ]
  },
  {
   "cell_type": "code",
   "execution_count": null,
   "metadata": {},
   "outputs": [],
   "source": [
    "file = \"triples_smalls_chunk_1.csv\"    \n",
    "ds = load_text_tsv_chunck(chuncks_path,file)\n",
    "print(ds[4])"
   ]
  },
  {
   "cell_type": "markdown",
   "metadata": {},
   "source": [
    "### Caso queria trabalhar com os dados completos"
   ]
  },
  {
   "cell_type": "markdown",
   "metadata": {
    "colab_type": "text",
    "id": "hoSr2VL9GmLq"
   },
   "source": [
    "Extração dos dados"
   ]
  },
  {
   "cell_type": "code",
   "execution_count": 16,
   "metadata": {
    "colab": {},
    "colab_type": "code",
    "id": "0hSMi8Arw8OE"
   },
   "outputs": [],
   "source": [
    "# ds = load_text_untar(triples_path)\n",
    "# print(ds[:2])"
   ]
  },
  {
   "cell_type": "markdown",
   "metadata": {
    "colab_type": "text",
    "id": "4oEIzjruGoZ7"
   },
   "source": [
    "Printando 3 amostras"
   ]
  },
  {
   "cell_type": "code",
   "execution_count": 18,
   "metadata": {
    "colab": {
     "base_uri": "https://localhost:8080/",
     "height": 86
    },
    "colab_type": "code",
    "id": "Djtd3e0rGi9n",
    "outputId": "c5f53690-7961-475d-b862-29ecd2956806"
   },
   "outputs": [],
   "source": [
    "# for set_name, x in [('treino', ds_train)]:\n",
    "#     print(f'\\n{len(x)} amostras de {set_name}')\n",
    "#     print(f'3 primeiras amostras {set_name}:')\n",
    "#     for i, (source, target) in enumerate(x[:3]):\n",
    "#         print(f'{i}: source: {source}\\n   target: {target}')"
   ]
  },
  {
   "cell_type": "markdown",
   "metadata": {
    "colab_type": "text",
    "id": "rQY5OH5-wdBM"
   },
   "source": [
    "## Recuperando treinamento do docTTTTquery"
   ]
  },
  {
   "cell_type": "code",
   "execution_count": 16,
   "metadata": {
    "colab": {
     "base_uri": "https://localhost:8080/",
     "height": 1000
    },
    "colab_type": "code",
    "id": "MbaJiGhIus9o",
    "outputId": "76973f47-c607-4dcb-e93a-7709d2eac4ef"
   },
   "outputs": [],
   "source": [
    "import torch\n",
    "from transformers import T5Config, T5Tokenizer, T5ForConditionalGeneration\n",
    "\n",
    "\n",
    "tokenizer = T5Tokenizer.from_pretrained('t5-base')\n",
    "config = T5Config.from_pretrained('t5-base')\n",
    "model = T5ForConditionalGeneration.from_pretrained(\n",
    "model_checkpoint_path, from_tf=True, config=config)\n",
    "model = model.to(device)\n"
   ]
  },
  {
   "cell_type": "markdown",
   "metadata": {
    "colab_type": "text",
    "id": "o9-saIstxI9A"
   },
   "source": [
    "Testando decoder top K (não esquecer end-of-sequence token </s>):"
   ]
  },
  {
   "cell_type": "code",
   "execution_count": 9,
   "metadata": {
    "colab": {
     "base_uri": "https://localhost:8080/",
     "height": 69
    },
    "colab_type": "code",
    "id": "4OOBB6_mxF9v",
    "outputId": "c58a44ce-00b1-4388-e283-1f245fc3393f"
   },
   "outputs": [
    {
     "name": "stdout",
     "output_type": "stream",
     "text": [
      "sample 1: what is the scientific definition of life and its meaning\n",
      "sample 2: what is the meaning of life\n",
      "sample 3: scientific definitions definition\n",
      "sample 4: what scientific contribution is made to understanding the meaning of life?\n",
      "sample 5: what makes up the scientific study of life?\n",
      "sample 6: how is life defined in science?\n",
      "sample 7: what is the scientific definition of life\n",
      "sample 8: which science is concerned with understanding the meaning of life?\n",
      "sample 9: what is life and its meaning quizlet\n",
      "sample 10: which is related to the scientific inquiry of life?\n"
     ]
    }
   ],
   "source": [
    "doc_text = 'The meaning of life as we perceive it is derived from philosophical and religious contemplation of, and scientific inquiries about existence, social ties, consciousness, and happiness. Many other issues are also involved, such as symbolic meaning, ontology, value, purpose, ethics, good and evil, free will, the existence of one or multiple gods, conceptions of God, the soul, and the afterlife. Scientific contributions focus primarily on describing related empirical facts about the universe, exploring the context and parameters concerning the \"how\" of life. Science also studies and can provide recommendations for the pursuit of well-being and a related conception of morality. </s>'\n",
    "\n",
    "input_ids = tokenizer.encode(doc_text, return_tensors='pt').to(device)\n",
    "outputs = model.generate(input_ids=input_ids,max_length=64,do_sample=True,top_k=10,num_return_sequences=10)\n",
    "\n",
    "for i in range(10):\n",
    "    print(f'sample {i + 1}: {tokenizer.decode(outputs[i], skip_special_tokens=True)}')"
   ]
  },
  {
   "cell_type": "markdown",
   "metadata": {},
   "source": [
    "## Trabalhando com Dataframes"
   ]
  },
  {
   "cell_type": "code",
   "execution_count": 10,
   "metadata": {},
   "outputs": [],
   "source": [
    "def passage2query(passage):\n",
    "    passage_input = tokenizer.encode(f\"{passage} </s>\", return_tensors='pt').to(device)\n",
    "    passage_outputs = model.generate(input_ids=passage_input,max_length=64,do_sample=True,top_k=1,num_return_sequences=1)\n",
    "\n",
    "    return passage_outputs\n",
    "    "
   ]
  },
  {
   "cell_type": "code",
   "execution_count": 11,
   "metadata": {},
   "outputs": [],
   "source": [
    "def passage2queryRow(row):\n",
    "#     df_queries= df_queries.apply(lambda row : passage2queryRow(row), axis = 1)\n",
    "    positive_passage = row[2]\n",
    "    negative_passage = row[3]\n",
    "    \n",
    "    positive_input = tokenizer.encode(f\"{positive_passage} </s>\", return_tensors='pt').to(device)\n",
    "    positive_outputs = model.generate(input_ids=positive_input,max_length=64,do_sample=True,top_k=1,num_return_sequences=1)\n",
    "    row[2] = tokenizer.decode(positive_outputs[0], skip_special_tokens=True)\n",
    "    \n",
    "    \n",
    "    negative_input = tokenizer.encode(f\"{negative_passage} </s>\", return_tensors='pt').to(device)\n",
    "    negative_outputs = model.generate(input_ids=negative_input,max_length=64,do_sample=True,top_k=1,num_return_sequences=1)\n",
    "    row[3] = tokenizer.decode(negative_outputs[0], skip_special_tokens=True)\n",
    "    \n",
    "    return row"
   ]
  },
  {
   "cell_type": "code",
   "execution_count": 12,
   "metadata": {},
   "outputs": [],
   "source": [
    "def passage2queryGPU(positive_passage,negative_passage,positive_questions,negative_questions,kwarg1):\n",
    "\n",
    "    \n",
    "    positive_input = tokenizer.encode(f\"{positive_passage} </s>\", return_tensors='pt').to(device)\n",
    "    positive_outputs = model.generate(input_ids=positive_input,max_length=64,do_sample=True,top_k=1,num_return_sequences=1)\n",
    "    positive_questions = tokenizer.decode(positive_outputs[0], skip_special_tokens=True)\n",
    "    \n",
    "    \n",
    "    negative_input = tokenizer.encode(f\"{negative_passage} </s>\", return_tensors='pt').to(device)\n",
    "    negative_outputs = model.generate(input_ids=negative_input,max_length=64,do_sample=True,top_k=1,num_return_sequences=1)\n",
    "    negative_questions = tokenizer.decode(negative_outputs[0], skip_special_tokens=True)"
   ]
  },
  {
   "cell_type": "code",
   "execution_count": 13,
   "metadata": {},
   "outputs": [],
   "source": [
    "def passage2queryDict(dict_org):\n",
    "    for i in range(0,len(dict_org['ID'])):\n",
    "        positive_passage = dict_org['POSITIVE_PASSAGE'][i]\n",
    "        negative_passage = dict_org['NEGATIVE_PASSAGE'][i]\n",
    "\n",
    "        positive_input = tokenizer.encode(f\"{positive_passage} </s>\", return_tensors='pt').to(device)\n",
    "        positive_outputs = model.generate(input_ids=positive_input,max_length=64,do_sample=True,top_k=1,num_return_sequences=1)\n",
    "        dict_org['POSITIVE_PASSAGE'][i] = tokenizer.decode(positive_outputs[0], skip_special_tokens=True)\n",
    "\n",
    "\n",
    "        negative_input = tokenizer.encode(f\"{negative_passage} </s>\", return_tensors='pt').to(device)\n",
    "        negative_outputs = model.generate(input_ids=negative_input,max_length=64,do_sample=True,top_k=1,num_return_sequences=1)\n",
    "        dict_org['NEGATIVE_PASSAGE'][i] = tokenizer.decode(negative_outputs[0], skip_special_tokens=True) \n",
    "    return dict_org"
   ]
  },
  {
   "cell_type": "code",
   "execution_count": 60,
   "metadata": {},
   "outputs": [],
   "source": [
    "def passage2queryDictMultiple(dict_org):\n",
    "    for i in range(0,len(dict_org['ID'])):\n",
    "        positive_passage = dict_org['POSITIVE_PASSAGE'][i]\n",
    "        negative_passage = dict_org['NEGATIVE_PASSAGE'][i]\n",
    "\n",
    "        positive_input = tokenizer.encode(f\"{positive_passage} </s>\", return_tensors='pt').to(device)\n",
    "        positive_outputs = model.generate(input_ids=positive_input,max_length=64,do_sample=True,top_k=5,num_return_sequences=5)\n",
    "        for j , po in enumerate(positive_outputs):\n",
    "            dict_org['POSITIVE_QUERY_'+str(j+1)][i] = tokenizer.decode(po, skip_special_tokens=True)\n",
    "\n",
    "\n",
    "        negative_input = tokenizer.encode(f\"{negative_passage} </s>\", return_tensors='pt').to(device)\n",
    "        negative_outputs = model.generate(input_ids=negative_input,max_length=64,do_sample=True,top_k=5,num_return_sequences=5)\n",
    "        for j , no in enumerate(negative_outputs):\n",
    "            dict_org['NEGATIVE_QUERY_'+str(j+1)][i] = tokenizer.decode(no, skip_special_tokens=True)\n",
    "    \n",
    "    return dict_org"
   ]
  },
  {
   "cell_type": "code",
   "execution_count": 37,
   "metadata": {},
   "outputs": [],
   "source": [
    "def passage2queryMultipleAppend(ds):\n",
    "    data_list = [['ID','ORIGINAL_QUERY','POSITIVE_PASSAGE','NEGATIVE_PASSAGE','POSITIVE_QUERY_1','POSITIVE_QUERY_2','POSITIVE_QUERY_3','POSITIVE_QUERY_4','POSITIVE_QUERY_5','NEGATIVE_QUERY_1','NEGATIVE_QUERY_2','NEGATIVE_QUERY_3','NEGATIVE_QUERY_4','NEGATIVE_QUERY_5']]\n",
    "\n",
    "    for i,row in enumerate(ds):\n",
    "        positive_passage = row[1]\n",
    "        negative_passage = row[2]\n",
    "\n",
    "        positive_input = tokenizer.encode(f\"{positive_passage} </s>\", return_tensors='pt').to(device)\n",
    "        positive_outputs = model.generate(input_ids=positive_input,max_length=64,do_sample=True,top_k=5,num_return_sequences=5)\n",
    "        negative_input = tokenizer.encode(f\"{negative_passage} </s>\", return_tensors='pt').to(device)\n",
    "        negative_outputs = model.generate(input_ids=negative_input,max_length=64,do_sample=True,top_k=5,num_return_sequences=5)\n",
    "        \n",
    "        list_one_line = [i,row[0],row[1],row[2]]\n",
    "        \n",
    "        for po in positive_outputs:\n",
    "            list_one_line.append(tokenizer.decode(po, skip_special_tokens=True))\n",
    "\n",
    "        for j , no in enumerate(negative_outputs):\n",
    "            list_one_line.append(tokenizer.decode(no, skip_special_tokens=True))\n",
    "            \n",
    "        data_list.append(list_one_line)\n",
    "        \n",
    "        \n",
    "        if i ==10: \n",
    "            with open('checkup_checkup', encoding='cp1252', mode='w', newline='') as file:\n",
    "                writer = csv.writer(file, delimiter='\\t')\n",
    "                writer.writerows(data_list)\n",
    "                break\n",
    "    \n",
    "    return data_list"
   ]
  },
  {
   "cell_type": "code",
   "execution_count": 14,
   "metadata": {},
   "outputs": [],
   "source": [
    "df_original = pd.DataFrame.from_records(ds,columns=[\"ORIGINAL_QUERY\",\"POSITIVE_PASSAGE\",\"NEGATIVE_PASSAGE\"])\n",
    "df_original.insert(0, \"ID\", np.arange(len(df_original)))"
   ]
  },
  {
   "cell_type": "code",
   "execution_count": 15,
   "metadata": {},
   "outputs": [
    {
     "data": {
      "text/html": [
       "<div>\n",
       "<style scoped>\n",
       "    .dataframe tbody tr th:only-of-type {\n",
       "        vertical-align: middle;\n",
       "    }\n",
       "\n",
       "    .dataframe tbody tr th {\n",
       "        vertical-align: top;\n",
       "    }\n",
       "\n",
       "    .dataframe thead th {\n",
       "        text-align: right;\n",
       "    }\n",
       "</style>\n",
       "<table border=\"1\" class=\"dataframe\">\n",
       "  <thead>\n",
       "    <tr style=\"text-align: right;\">\n",
       "      <th></th>\n",
       "      <th>ID</th>\n",
       "      <th>ORIGINAL_QUERY</th>\n",
       "      <th>POSITIVE_PASSAGE</th>\n",
       "      <th>NEGATIVE_PASSAGE</th>\n",
       "    </tr>\n",
       "  </thead>\n",
       "  <tbody>\n",
       "    <tr>\n",
       "      <th>0</th>\n",
       "      <td>0</td>\n",
       "      <td>is a little caffeine ok during pregnancy</td>\n",
       "      <td>We dont know a lot about the effects of caffei...</td>\n",
       "      <td>It is generally safe for pregnant women to eat...</td>\n",
       "    </tr>\n",
       "    <tr>\n",
       "      <th>1</th>\n",
       "      <td>1</td>\n",
       "      <td>what fruit is native to australia</td>\n",
       "      <td>Passiflora herbertiana. A rare passion fruit n...</td>\n",
       "      <td>The kola nut is the fruit of the kola tree, a ...</td>\n",
       "    </tr>\n",
       "    <tr>\n",
       "      <th>2</th>\n",
       "      <td>2</td>\n",
       "      <td>how large is the canadian military</td>\n",
       "      <td>The Canadian Armed Forces. 1  The first large-...</td>\n",
       "      <td>The Canadian Physician Health Institute (CPHI)...</td>\n",
       "    </tr>\n",
       "    <tr>\n",
       "      <th>3</th>\n",
       "      <td>3</td>\n",
       "      <td>types of fruit trees</td>\n",
       "      <td>Cherry. Cherry trees are found throughout the ...</td>\n",
       "      <td>The kola nut is the fruit of the kola tree, a ...</td>\n",
       "    </tr>\n",
       "    <tr>\n",
       "      <th>4</th>\n",
       "      <td>4</td>\n",
       "      <td>how many calories a day are lost breastfeeding</td>\n",
       "      <td>Not only is breastfeeding better for the baby,...</td>\n",
       "      <td>However, you still need some niacin each day; ...</td>\n",
       "    </tr>\n",
       "  </tbody>\n",
       "</table>\n",
       "</div>"
      ],
      "text/plain": [
       "   ID                                  ORIGINAL_QUERY  \\\n",
       "0   0        is a little caffeine ok during pregnancy   \n",
       "1   1               what fruit is native to australia   \n",
       "2   2              how large is the canadian military   \n",
       "3   3                            types of fruit trees   \n",
       "4   4  how many calories a day are lost breastfeeding   \n",
       "\n",
       "                                    POSITIVE_PASSAGE  \\\n",
       "0  We dont know a lot about the effects of caffei...   \n",
       "1  Passiflora herbertiana. A rare passion fruit n...   \n",
       "2  The Canadian Armed Forces. 1  The first large-...   \n",
       "3  Cherry. Cherry trees are found throughout the ...   \n",
       "4  Not only is breastfeeding better for the baby,...   \n",
       "\n",
       "                                    NEGATIVE_PASSAGE  \n",
       "0  It is generally safe for pregnant women to eat...  \n",
       "1  The kola nut is the fruit of the kola tree, a ...  \n",
       "2  The Canadian Physician Health Institute (CPHI)...  \n",
       "3  The kola nut is the fruit of the kola tree, a ...  \n",
       "4  However, you still need some niacin each day; ...  "
      ]
     },
     "execution_count": 15,
     "metadata": {},
     "output_type": "execute_result"
    }
   ],
   "source": [
    "df_original.head()"
   ]
  },
  {
   "cell_type": "code",
   "execution_count": 16,
   "metadata": {},
   "outputs": [],
   "source": [
    "df_queries = df_original.copy()"
   ]
  },
  {
   "cell_type": "markdown",
   "metadata": {},
   "source": [
    "## Medição de performance"
   ]
  },
  {
   "cell_type": "code",
   "execution_count": 17,
   "metadata": {},
   "outputs": [
    {
     "data": {
      "text/html": [
       "<div>\n",
       "<style scoped>\n",
       "    .dataframe tbody tr th:only-of-type {\n",
       "        vertical-align: middle;\n",
       "    }\n",
       "\n",
       "    .dataframe tbody tr th {\n",
       "        vertical-align: top;\n",
       "    }\n",
       "\n",
       "    .dataframe thead th {\n",
       "        text-align: right;\n",
       "    }\n",
       "</style>\n",
       "<table border=\"1\" class=\"dataframe\">\n",
       "  <thead>\n",
       "    <tr style=\"text-align: right;\">\n",
       "      <th></th>\n",
       "      <th>ID</th>\n",
       "      <th>ORIGINAL_QUERY</th>\n",
       "      <th>POSITIVE_PASSAGE</th>\n",
       "      <th>NEGATIVE_PASSAGE</th>\n",
       "    </tr>\n",
       "  </thead>\n",
       "  <tbody>\n",
       "    <tr>\n",
       "      <th>0</th>\n",
       "      <td>0</td>\n",
       "      <td>is a little caffeine ok during pregnancy</td>\n",
       "      <td>We dont know a lot about the effects of caffei...</td>\n",
       "      <td>It is generally safe for pregnant women to eat...</td>\n",
       "    </tr>\n",
       "    <tr>\n",
       "      <th>1</th>\n",
       "      <td>1</td>\n",
       "      <td>what fruit is native to australia</td>\n",
       "      <td>Passiflora herbertiana. A rare passion fruit n...</td>\n",
       "      <td>The kola nut is the fruit of the kola tree, a ...</td>\n",
       "    </tr>\n",
       "    <tr>\n",
       "      <th>2</th>\n",
       "      <td>2</td>\n",
       "      <td>how large is the canadian military</td>\n",
       "      <td>The Canadian Armed Forces. 1  The first large-...</td>\n",
       "      <td>The Canadian Physician Health Institute (CPHI)...</td>\n",
       "    </tr>\n",
       "    <tr>\n",
       "      <th>3</th>\n",
       "      <td>3</td>\n",
       "      <td>types of fruit trees</td>\n",
       "      <td>Cherry. Cherry trees are found throughout the ...</td>\n",
       "      <td>The kola nut is the fruit of the kola tree, a ...</td>\n",
       "    </tr>\n",
       "    <tr>\n",
       "      <th>4</th>\n",
       "      <td>4</td>\n",
       "      <td>how many calories a day are lost breastfeeding</td>\n",
       "      <td>Not only is breastfeeding better for the baby,...</td>\n",
       "      <td>However, you still need some niacin each day; ...</td>\n",
       "    </tr>\n",
       "  </tbody>\n",
       "</table>\n",
       "</div>"
      ],
      "text/plain": [
       "   ID                                  ORIGINAL_QUERY  \\\n",
       "0   0        is a little caffeine ok during pregnancy   \n",
       "1   1               what fruit is native to australia   \n",
       "2   2              how large is the canadian military   \n",
       "3   3                            types of fruit trees   \n",
       "4   4  how many calories a day are lost breastfeeding   \n",
       "\n",
       "                                    POSITIVE_PASSAGE  \\\n",
       "0  We dont know a lot about the effects of caffei...   \n",
       "1  Passiflora herbertiana. A rare passion fruit n...   \n",
       "2  The Canadian Armed Forces. 1  The first large-...   \n",
       "3  Cherry. Cherry trees are found throughout the ...   \n",
       "4  Not only is breastfeeding better for the baby,...   \n",
       "\n",
       "                                    NEGATIVE_PASSAGE  \n",
       "0  It is generally safe for pregnant women to eat...  \n",
       "1  The kola nut is the fruit of the kola tree, a ...  \n",
       "2  The Canadian Physician Health Institute (CPHI)...  \n",
       "3  The kola nut is the fruit of the kola tree, a ...  \n",
       "4  However, you still need some niacin each day; ...  "
      ]
     },
     "execution_count": 17,
     "metadata": {},
     "output_type": "execute_result"
    }
   ],
   "source": [
    "df_part = df_queries[:10]\n",
    "df_part.head()"
   ]
  },
  {
   "cell_type": "markdown",
   "metadata": {},
   "source": [
    "### Dataframe"
   ]
  },
  {
   "cell_type": "code",
   "execution_count": 18,
   "metadata": {},
   "outputs": [
    {
     "name": "stdout",
     "output_type": "stream",
     "text": [
      "Wall time: 26.3 s\n"
     ]
    }
   ],
   "source": [
    "%%time\n",
    "df_part_calc= df_part.apply(lambda row : passage2queryRow(row), axis = 1)"
   ]
  },
  {
   "cell_type": "code",
   "execution_count": 19,
   "metadata": {},
   "outputs": [
    {
     "data": {
      "text/html": [
       "<div>\n",
       "<style scoped>\n",
       "    .dataframe tbody tr th:only-of-type {\n",
       "        vertical-align: middle;\n",
       "    }\n",
       "\n",
       "    .dataframe tbody tr th {\n",
       "        vertical-align: top;\n",
       "    }\n",
       "\n",
       "    .dataframe thead th {\n",
       "        text-align: right;\n",
       "    }\n",
       "</style>\n",
       "<table border=\"1\" class=\"dataframe\">\n",
       "  <thead>\n",
       "    <tr style=\"text-align: right;\">\n",
       "      <th></th>\n",
       "      <th>ID</th>\n",
       "      <th>ORIGINAL_QUERY</th>\n",
       "      <th>POSITIVE_PASSAGE</th>\n",
       "      <th>NEGATIVE_PASSAGE</th>\n",
       "    </tr>\n",
       "  </thead>\n",
       "  <tbody>\n",
       "    <tr>\n",
       "      <th>0</th>\n",
       "      <td>0</td>\n",
       "      <td>is a little caffeine ok during pregnancy</td>\n",
       "      <td>how much caffeine should i take while pregnant</td>\n",
       "      <td>can pregnant women eat chocolate</td>\n",
       "    </tr>\n",
       "    <tr>\n",
       "      <th>1</th>\n",
       "      <td>1</td>\n",
       "      <td>what fruit is native to australia</td>\n",
       "      <td>what is the name of the passion fruit in austr...</td>\n",
       "      <td>what is kola nut</td>\n",
       "    </tr>\n",
       "    <tr>\n",
       "      <th>2</th>\n",
       "      <td>2</td>\n",
       "      <td>how large is the canadian military</td>\n",
       "      <td>when was the first peacekeeping mission in canada</td>\n",
       "      <td>what is cphi</td>\n",
       "    </tr>\n",
       "    <tr>\n",
       "      <th>3</th>\n",
       "      <td>3</td>\n",
       "      <td>types of fruit trees</td>\n",
       "      <td>what kind of trees are there</td>\n",
       "      <td>what is kola nut</td>\n",
       "    </tr>\n",
       "    <tr>\n",
       "      <th>4</th>\n",
       "      <td>4</td>\n",
       "      <td>how many calories a day are lost breastfeeding</td>\n",
       "      <td>how many calories does breastfeeding burn</td>\n",
       "      <td>how much niacin should i take a day</td>\n",
       "    </tr>\n",
       "  </tbody>\n",
       "</table>\n",
       "</div>"
      ],
      "text/plain": [
       "   ID                                  ORIGINAL_QUERY  \\\n",
       "0   0        is a little caffeine ok during pregnancy   \n",
       "1   1               what fruit is native to australia   \n",
       "2   2              how large is the canadian military   \n",
       "3   3                            types of fruit trees   \n",
       "4   4  how many calories a day are lost breastfeeding   \n",
       "\n",
       "                                    POSITIVE_PASSAGE  \\\n",
       "0     how much caffeine should i take while pregnant   \n",
       "1  what is the name of the passion fruit in austr...   \n",
       "2  when was the first peacekeeping mission in canada   \n",
       "3                       what kind of trees are there   \n",
       "4          how many calories does breastfeeding burn   \n",
       "\n",
       "                      NEGATIVE_PASSAGE  \n",
       "0     can pregnant women eat chocolate  \n",
       "1                     what is kola nut  \n",
       "2                         what is cphi  \n",
       "3                     what is kola nut  \n",
       "4  how much niacin should i take a day  "
      ]
     },
     "execution_count": 19,
     "metadata": {},
     "output_type": "execute_result"
    }
   ],
   "source": [
    "df_part_calc.head()"
   ]
  },
  {
   "cell_type": "markdown",
   "metadata": {},
   "source": [
    "### Listas"
   ]
  },
  {
   "cell_type": "code",
   "execution_count": 20,
   "metadata": {},
   "outputs": [],
   "source": [
    "lol = df_part.values.tolist()"
   ]
  },
  {
   "cell_type": "code",
   "execution_count": 21,
   "metadata": {},
   "outputs": [
    {
     "name": "stdout",
     "output_type": "stream",
     "text": [
      "Wall time: 23.9 s\n"
     ]
    },
    {
     "data": {
      "text/plain": [
       "[[0,\n",
       "  'is a little caffeine ok during pregnancy',\n",
       "  'how much caffeine should i take while pregnant',\n",
       "  'can pregnant women eat chocolate'],\n",
       " [1,\n",
       "  'what fruit is native to australia',\n",
       "  'what is the name of the passion fruit in australia',\n",
       "  'what is kola nut'],\n",
       " [2,\n",
       "  'how large is the canadian military',\n",
       "  'when was the first peacekeeping mission in canada',\n",
       "  'what is cphi'],\n",
       " [3,\n",
       "  'types of fruit trees',\n",
       "  'what kind of trees are there',\n",
       "  'what is kola nut'],\n",
       " [4,\n",
       "  'how many calories a day are lost breastfeeding',\n",
       "  'how many calories does breastfeeding burn',\n",
       "  'how much niacin should i take a day'],\n",
       " [5,\n",
       "  'where is harrison city pa',\n",
       "  'where is harrison city pa',\n",
       "  'what is the closest township to forest city pa'],\n",
       " [6,\n",
       "  'how many representatives does texas have',\n",
       "  'how many congressional districts are there in the united states',\n",
       "  'how many representatives does texas have'],\n",
       " [7,\n",
       "  'major climate characteristics of tropical rainforests',\n",
       "  'what is the tropical rainforest climate',\n",
       "  'what is kola nut'],\n",
       " [8,\n",
       "  'cancer of the pancreas symptoms',\n",
       "  'pancreatic cancer symptoms',\n",
       "  'what is pancreatic cancer in dogs'],\n",
       " [9,\n",
       "  'foods that will help lower blood sugar',\n",
       "  'foods that help stabilize blood sugar',\n",
       "  'what foods are good for blood']]"
      ]
     },
     "execution_count": 21,
     "metadata": {},
     "output_type": "execute_result"
    }
   ],
   "source": [
    "%%time\n",
    "new_lol =  [ passage2queryRow(line) for line in lol]\n",
    "new_lol"
   ]
  },
  {
   "cell_type": "markdown",
   "metadata": {},
   "source": [
    "### Dicionarios"
   ]
  },
  {
   "cell_type": "code",
   "execution_count": 46,
   "metadata": {},
   "outputs": [],
   "source": [
    "dict_org = df_part.to_dict('dict')"
   ]
  },
  {
   "cell_type": "code",
   "execution_count": 29,
   "metadata": {},
   "outputs": [
    {
     "name": "stdout",
     "output_type": "stream",
     "text": [
      "Wall time: 28.2 s\n"
     ]
    },
    {
     "data": {
      "text/plain": [
       "{'ID': {0: 0, 1: 1, 2: 2, 3: 3, 4: 4, 5: 5, 6: 6, 7: 7, 8: 8, 9: 9},\n",
       " 'ORIGINAL_QUERY': {0: 'is a little caffeine ok during pregnancy',\n",
       "  1: 'what fruit is native to australia',\n",
       "  2: 'how large is the canadian military',\n",
       "  3: 'types of fruit trees',\n",
       "  4: 'how many calories a day are lost breastfeeding',\n",
       "  5: 'where is harrison city pa',\n",
       "  6: 'how many representatives does texas have',\n",
       "  7: 'major climate characteristics of tropical rainforests',\n",
       "  8: 'cancer of the pancreas symptoms',\n",
       "  9: 'foods that will help lower blood sugar'},\n",
       " 'POSITIVE_PASSAGE': {0: 'how much caffeine should i take while pregnant',\n",
       "  1: 'what is the name of the passion fruit in australia',\n",
       "  2: 'when was the first peacekeeping mission in canada',\n",
       "  3: 'what kind of trees are there',\n",
       "  4: 'how many calories does breastfeeding burn',\n",
       "  5: 'where is harrison city pa',\n",
       "  6: 'how many congressional districts are there in the united states',\n",
       "  7: 'what is the tropical rainforest climate',\n",
       "  8: 'pancreatic cancer symptoms',\n",
       "  9: 'foods that help stabilize blood sugar'},\n",
       " 'NEGATIVE_PASSAGE': {0: 'can pregnant women eat chocolate',\n",
       "  1: 'what is kola nut',\n",
       "  2: 'what is cphi',\n",
       "  3: 'what is kola nut',\n",
       "  4: 'how much niacin should i take a day',\n",
       "  5: 'what is the closest township to forest city pa',\n",
       "  6: 'how many representatives does texas have',\n",
       "  7: 'what is kola nut',\n",
       "  8: 'what is pancreatic cancer in dogs',\n",
       "  9: 'what foods are good for blood'}}"
      ]
     },
     "execution_count": 29,
     "metadata": {},
     "output_type": "execute_result"
    }
   ],
   "source": [
    "%%time\n",
    "dict_org = passage2queryDict(dict_org)\n",
    "dict_org"
   ]
  },
  {
   "cell_type": "code",
   "execution_count": 30,
   "metadata": {
    "scrolled": true
   },
   "outputs": [
    {
     "data": {
      "text/html": [
       "<div>\n",
       "<style scoped>\n",
       "    .dataframe tbody tr th:only-of-type {\n",
       "        vertical-align: middle;\n",
       "    }\n",
       "\n",
       "    .dataframe tbody tr th {\n",
       "        vertical-align: top;\n",
       "    }\n",
       "\n",
       "    .dataframe thead th {\n",
       "        text-align: right;\n",
       "    }\n",
       "</style>\n",
       "<table border=\"1\" class=\"dataframe\">\n",
       "  <thead>\n",
       "    <tr style=\"text-align: right;\">\n",
       "      <th></th>\n",
       "      <th>ID</th>\n",
       "      <th>ORIGINAL_QUERY</th>\n",
       "      <th>POSITIVE_PASSAGE</th>\n",
       "      <th>NEGATIVE_PASSAGE</th>\n",
       "    </tr>\n",
       "  </thead>\n",
       "  <tbody>\n",
       "    <tr>\n",
       "      <th>0</th>\n",
       "      <td>0</td>\n",
       "      <td>is a little caffeine ok during pregnancy</td>\n",
       "      <td>how much caffeine should i take while pregnant</td>\n",
       "      <td>can pregnant women eat chocolate</td>\n",
       "    </tr>\n",
       "    <tr>\n",
       "      <th>1</th>\n",
       "      <td>1</td>\n",
       "      <td>what fruit is native to australia</td>\n",
       "      <td>what is the name of the passion fruit in austr...</td>\n",
       "      <td>what is kola nut</td>\n",
       "    </tr>\n",
       "    <tr>\n",
       "      <th>2</th>\n",
       "      <td>2</td>\n",
       "      <td>how large is the canadian military</td>\n",
       "      <td>when was the first peacekeeping mission in canada</td>\n",
       "      <td>what is cphi</td>\n",
       "    </tr>\n",
       "    <tr>\n",
       "      <th>3</th>\n",
       "      <td>3</td>\n",
       "      <td>types of fruit trees</td>\n",
       "      <td>what kind of trees are there</td>\n",
       "      <td>what is kola nut</td>\n",
       "    </tr>\n",
       "    <tr>\n",
       "      <th>4</th>\n",
       "      <td>4</td>\n",
       "      <td>how many calories a day are lost breastfeeding</td>\n",
       "      <td>how many calories does breastfeeding burn</td>\n",
       "      <td>how much niacin should i take a day</td>\n",
       "    </tr>\n",
       "  </tbody>\n",
       "</table>\n",
       "</div>"
      ],
      "text/plain": [
       "   ID                                  ORIGINAL_QUERY  \\\n",
       "0   0        is a little caffeine ok during pregnancy   \n",
       "1   1               what fruit is native to australia   \n",
       "2   2              how large is the canadian military   \n",
       "3   3                            types of fruit trees   \n",
       "4   4  how many calories a day are lost breastfeeding   \n",
       "\n",
       "                                    POSITIVE_PASSAGE  \\\n",
       "0     how much caffeine should i take while pregnant   \n",
       "1  what is the name of the passion fruit in austr...   \n",
       "2  when was the first peacekeeping mission in canada   \n",
       "3                       what kind of trees are there   \n",
       "4          how many calories does breastfeeding burn   \n",
       "\n",
       "                      NEGATIVE_PASSAGE  \n",
       "0     can pregnant women eat chocolate  \n",
       "1                     what is kola nut  \n",
       "2                         what is cphi  \n",
       "3                     what is kola nut  \n",
       "4  how much niacin should i take a day  "
      ]
     },
     "execution_count": 30,
     "metadata": {},
     "output_type": "execute_result"
    }
   ],
   "source": [
    "df_part_calc = pd.DataFrame(dict_org)\n",
    "df_part_calc.head()"
   ]
  },
  {
   "cell_type": "markdown",
   "metadata": {},
   "source": [
    "### Dataframe Multi Core"
   ]
  },
  {
   "cell_type": "code",
   "execution_count": 44,
   "metadata": {},
   "outputs": [],
   "source": [
    "# import dask.dataframe as dd\n",
    "# ddf_part = dd.from_pandas(df_part, npartitions=cpu_count())"
   ]
  },
  {
   "cell_type": "code",
   "execution_count": null,
   "metadata": {},
   "outputs": [],
   "source": [
    "# %%time\n",
    "# ddf_part_calc= ddf_part.map_partitions(lambda df_part: df_part.apply(lambda row : passage2queryRow(row), axis = 1)).compute(scheduler='processes')"
   ]
  },
  {
   "cell_type": "markdown",
   "metadata": {},
   "source": [
    "### Dataframe em GPU (precisa estar em linux ou no coolab) [NÂO FUNCIONA]"
   ]
  },
  {
   "cell_type": "markdown",
   "metadata": {},
   "source": [
    "**Aparentemente é complicado rodar strings em GPU**<br>\n",
    "\n",
    "**O nvstrings surgiu como solução, mas misteriosamente ele derruba a GPU**"
   ]
  },
  {
   "cell_type": "code",
   "execution_count": null,
   "metadata": {},
   "outputs": [],
   "source": [
    "# import cudf\n",
    "# import nvstrings\n",
    "# s1 = list(df_part['POSITIVE_PASSAGE'])\n",
    "# s2 = list(df_part['NEGATIVE_PASSAGE'])\n",
    "# df_part_gpu = cudf.from_pandas(df_part)\n",
    "# s1 = nvstrings.to_device(s1)\n",
    "# s2 = nvstrings.to_device(s1)"
   ]
  },
  {
   "cell_type": "code",
   "execution_count": null,
   "metadata": {},
   "outputs": [],
   "source": [
    "# df_part_gpu = df_part_gpu.apply_rows(passage2queryGPU,\n",
    "#                    incols=['POSITIVE_PASSAGE','NEGATIVE_PASSAGE'],\n",
    "#                    outcols=dict(out1=np.str, out2=np.str),\n",
    "#                    kwargs=dict(kwarg1=np.array(3)),\n",
    "#                    chunks=16,\n",
    "#                    tpb=8)"
   ]
  },
  {
   "cell_type": "markdown",
   "metadata": {},
   "source": [
    "### Lista de listas e append"
   ]
  },
  {
   "cell_type": "code",
   "execution_count": 38,
   "metadata": {},
   "outputs": [
    {
     "name": "stdout",
     "output_type": "stream",
     "text": [
      "Wall time: 1min 8s\n"
     ]
    },
    {
     "data": {
      "text/html": [
       "<div>\n",
       "<style scoped>\n",
       "    .dataframe tbody tr th:only-of-type {\n",
       "        vertical-align: middle;\n",
       "    }\n",
       "\n",
       "    .dataframe tbody tr th {\n",
       "        vertical-align: top;\n",
       "    }\n",
       "\n",
       "    .dataframe thead th {\n",
       "        text-align: right;\n",
       "    }\n",
       "</style>\n",
       "<table border=\"1\" class=\"dataframe\">\n",
       "  <thead>\n",
       "    <tr style=\"text-align: right;\">\n",
       "      <th></th>\n",
       "      <th>0</th>\n",
       "      <th>1</th>\n",
       "      <th>2</th>\n",
       "      <th>3</th>\n",
       "      <th>4</th>\n",
       "      <th>5</th>\n",
       "      <th>6</th>\n",
       "      <th>7</th>\n",
       "      <th>8</th>\n",
       "      <th>9</th>\n",
       "      <th>10</th>\n",
       "      <th>11</th>\n",
       "      <th>12</th>\n",
       "      <th>13</th>\n",
       "    </tr>\n",
       "  </thead>\n",
       "  <tbody>\n",
       "    <tr>\n",
       "      <th>0</th>\n",
       "      <td>ID</td>\n",
       "      <td>ORIGINAL_QUERY</td>\n",
       "      <td>POSITIVE_PASSAGE</td>\n",
       "      <td>NEGATIVE_PASSAGE</td>\n",
       "      <td>POSITIVE_QUERY_1</td>\n",
       "      <td>POSITIVE_QUERY_2</td>\n",
       "      <td>POSITIVE_QUERY_3</td>\n",
       "      <td>POSITIVE_QUERY_4</td>\n",
       "      <td>POSITIVE_QUERY_5</td>\n",
       "      <td>NEGATIVE_QUERY_1</td>\n",
       "      <td>NEGATIVE_QUERY_2</td>\n",
       "      <td>NEGATIVE_QUERY_3</td>\n",
       "      <td>NEGATIVE_QUERY_4</td>\n",
       "      <td>NEGATIVE_QUERY_5</td>\n",
       "    </tr>\n",
       "    <tr>\n",
       "      <th>1</th>\n",
       "      <td>0</td>\n",
       "      <td>is a little caffeine ok during pregnancy</td>\n",
       "      <td>We dont know a lot about the effects of caffei...</td>\n",
       "      <td>It is generally safe for pregnant women to eat...</td>\n",
       "      <td>caffeine when pregnant how much</td>\n",
       "      <td>how much caffeine to take when pregnant</td>\n",
       "      <td>caffeine how much can i drink while pregnant</td>\n",
       "      <td>does caffeine affect pregnancy?</td>\n",
       "      <td>how much caffeine should i drink while pregnant</td>\n",
       "      <td>is it safe to eat chocolate while pregnant</td>\n",
       "      <td>can pregnant women eat chocolate</td>\n",
       "      <td>can pregnant women eat chocolate when pregnant</td>\n",
       "      <td>can pregnant women eat chocolate</td>\n",
       "      <td>can pregnant women eat chocolate</td>\n",
       "    </tr>\n",
       "    <tr>\n",
       "      <th>2</th>\n",
       "      <td>1</td>\n",
       "      <td>what fruit is native to australia</td>\n",
       "      <td>Passiflora herbertiana. A rare passion fruit n...</td>\n",
       "      <td>The kola nut is the fruit of the kola tree, a ...</td>\n",
       "      <td>what type of fruit is passion fruit</td>\n",
       "      <td>where are passion fruits native to</td>\n",
       "      <td>what is a passion fruit</td>\n",
       "      <td>what is the name of the fruit of australia</td>\n",
       "      <td>where is passiflora herbertiana from</td>\n",
       "      <td>what is the kolanut</td>\n",
       "      <td>where are kola nuts from</td>\n",
       "      <td>where do kola nuts come from</td>\n",
       "      <td>what is kola nut</td>\n",
       "      <td>what is kola nut</td>\n",
       "    </tr>\n",
       "    <tr>\n",
       "      <th>3</th>\n",
       "      <td>2</td>\n",
       "      <td>how large is the canadian military</td>\n",
       "      <td>The Canadian Armed Forces. 1  The first large-...</td>\n",
       "      <td>The Canadian Physician Health Institute (CPHI)...</td>\n",
       "      <td>when was the first peacekeeping mission</td>\n",
       "      <td>who are canadian peacekeepers</td>\n",
       "      <td>when was the first peacekeeping mission made i...</td>\n",
       "      <td>when were peacekeepers founded</td>\n",
       "      <td>when was the peacekeeping mission in egypt fir...</td>\n",
       "      <td>what is the cphi</td>\n",
       "      <td>what is the cphi</td>\n",
       "      <td>what is cphi program</td>\n",
       "      <td>what is cphi medical</td>\n",
       "      <td>cphi is what type of organization.</td>\n",
       "    </tr>\n",
       "    <tr>\n",
       "      <th>4</th>\n",
       "      <td>3</td>\n",
       "      <td>types of fruit trees</td>\n",
       "      <td>Cherry. Cherry trees are found throughout the ...</td>\n",
       "      <td>The kola nut is the fruit of the kola tree, a ...</td>\n",
       "      <td>what is the name of the fruit trees that grow ...</td>\n",
       "      <td>where do i plant cherry trees</td>\n",
       "      <td>where are cherry trees located in the world</td>\n",
       "      <td>what kind of trees are there</td>\n",
       "      <td>what kind of fruit trees are there</td>\n",
       "      <td>what is kola nuts</td>\n",
       "      <td>what is kola nuts</td>\n",
       "      <td>what is kola nut?</td>\n",
       "      <td>where does the term kolanut come from</td>\n",
       "      <td>where do kola nuts come from</td>\n",
       "    </tr>\n",
       "  </tbody>\n",
       "</table>\n",
       "</div>"
      ],
      "text/plain": [
       "    0                                         1  \\\n",
       "0  ID                            ORIGINAL_QUERY   \n",
       "1   0  is a little caffeine ok during pregnancy   \n",
       "2   1         what fruit is native to australia   \n",
       "3   2        how large is the canadian military   \n",
       "4   3                      types of fruit trees   \n",
       "\n",
       "                                                   2  \\\n",
       "0                                   POSITIVE_PASSAGE   \n",
       "1  We dont know a lot about the effects of caffei...   \n",
       "2  Passiflora herbertiana. A rare passion fruit n...   \n",
       "3  The Canadian Armed Forces. 1  The first large-...   \n",
       "4  Cherry. Cherry trees are found throughout the ...   \n",
       "\n",
       "                                                   3  \\\n",
       "0                                   NEGATIVE_PASSAGE   \n",
       "1  It is generally safe for pregnant women to eat...   \n",
       "2  The kola nut is the fruit of the kola tree, a ...   \n",
       "3  The Canadian Physician Health Institute (CPHI)...   \n",
       "4  The kola nut is the fruit of the kola tree, a ...   \n",
       "\n",
       "                                                   4  \\\n",
       "0                                   POSITIVE_QUERY_1   \n",
       "1                    caffeine when pregnant how much   \n",
       "2                what type of fruit is passion fruit   \n",
       "3            when was the first peacekeeping mission   \n",
       "4  what is the name of the fruit trees that grow ...   \n",
       "\n",
       "                                         5  \\\n",
       "0                         POSITIVE_QUERY_2   \n",
       "1  how much caffeine to take when pregnant   \n",
       "2       where are passion fruits native to   \n",
       "3            who are canadian peacekeepers   \n",
       "4            where do i plant cherry trees   \n",
       "\n",
       "                                                   6  \\\n",
       "0                                   POSITIVE_QUERY_3   \n",
       "1       caffeine how much can i drink while pregnant   \n",
       "2                            what is a passion fruit   \n",
       "3  when was the first peacekeeping mission made i...   \n",
       "4        where are cherry trees located in the world   \n",
       "\n",
       "                                            7  \\\n",
       "0                            POSITIVE_QUERY_4   \n",
       "1             does caffeine affect pregnancy?   \n",
       "2  what is the name of the fruit of australia   \n",
       "3              when were peacekeepers founded   \n",
       "4                what kind of trees are there   \n",
       "\n",
       "                                                   8  \\\n",
       "0                                   POSITIVE_QUERY_5   \n",
       "1    how much caffeine should i drink while pregnant   \n",
       "2               where is passiflora herbertiana from   \n",
       "3  when was the peacekeeping mission in egypt fir...   \n",
       "4                 what kind of fruit trees are there   \n",
       "\n",
       "                                            9  \\\n",
       "0                            NEGATIVE_QUERY_1   \n",
       "1  is it safe to eat chocolate while pregnant   \n",
       "2                         what is the kolanut   \n",
       "3                            what is the cphi   \n",
       "4                           what is kola nuts   \n",
       "\n",
       "                                 10  \\\n",
       "0                  NEGATIVE_QUERY_2   \n",
       "1  can pregnant women eat chocolate   \n",
       "2          where are kola nuts from   \n",
       "3                  what is the cphi   \n",
       "4                 what is kola nuts   \n",
       "\n",
       "                                               11  \\\n",
       "0                                NEGATIVE_QUERY_3   \n",
       "1  can pregnant women eat chocolate when pregnant   \n",
       "2                    where do kola nuts come from   \n",
       "3                            what is cphi program   \n",
       "4                               what is kola nut?   \n",
       "\n",
       "                                      12                                  13  \n",
       "0                       NEGATIVE_QUERY_4                    NEGATIVE_QUERY_5  \n",
       "1       can pregnant women eat chocolate    can pregnant women eat chocolate  \n",
       "2                       what is kola nut                    what is kola nut  \n",
       "3                   what is cphi medical  cphi is what type of organization.  \n",
       "4  where does the term kolanut come from        where do kola nuts come from  "
      ]
     },
     "execution_count": 38,
     "metadata": {},
     "output_type": "execute_result"
    }
   ],
   "source": [
    "%%time\n",
    "data_list = passage2queryMultipleAppend(ds)\n",
    "df= pd.DataFrame(data_list)\n",
    "df.head()"
   ]
  },
  {
   "cell_type": "markdown",
   "metadata": {},
   "source": [
    "### -------------------------------------"
   ]
  },
  {
   "cell_type": "code",
   "execution_count": null,
   "metadata": {},
   "outputs": [],
   "source": []
  },
  {
   "cell_type": "code",
   "execution_count": 57,
   "metadata": {},
   "outputs": [
    {
     "data": {
      "text/html": [
       "<div>\n",
       "<style scoped>\n",
       "    .dataframe tbody tr th:only-of-type {\n",
       "        vertical-align: middle;\n",
       "    }\n",
       "\n",
       "    .dataframe tbody tr th {\n",
       "        vertical-align: top;\n",
       "    }\n",
       "\n",
       "    .dataframe thead th {\n",
       "        text-align: right;\n",
       "    }\n",
       "</style>\n",
       "<table border=\"1\" class=\"dataframe\">\n",
       "  <thead>\n",
       "    <tr style=\"text-align: right;\">\n",
       "      <th></th>\n",
       "      <th>ID</th>\n",
       "      <th>ORIGINAL_QUERY</th>\n",
       "      <th>POSITIVE_PASSAGE</th>\n",
       "      <th>NEGATIVE_PASSAGE</th>\n",
       "      <th>POSITIVE_QUERY_1</th>\n",
       "      <th>POSITIVE_QUERY_2</th>\n",
       "      <th>POSITIVE_QUERY_3</th>\n",
       "      <th>POSITIVE_QUERY_4</th>\n",
       "      <th>POSITIVE_QUERY_5</th>\n",
       "      <th>NEGATIVE_QUERY_1</th>\n",
       "      <th>NEGATIVE_QUERY_2</th>\n",
       "      <th>NEGATIVE_QUERY_3</th>\n",
       "      <th>NEGATIVE_QUERY_4</th>\n",
       "      <th>NEGATIVE_QUERY_5</th>\n",
       "    </tr>\n",
       "  </thead>\n",
       "  <tbody>\n",
       "    <tr>\n",
       "      <th>0</th>\n",
       "      <td>0</td>\n",
       "      <td>is a little caffeine ok during pregnancy</td>\n",
       "      <td>We dont know a lot about the effects of caffei...</td>\n",
       "      <td>It is generally safe for pregnant women to eat...</td>\n",
       "      <td>NaN</td>\n",
       "      <td>NaN</td>\n",
       "      <td>NaN</td>\n",
       "      <td>NaN</td>\n",
       "      <td>NaN</td>\n",
       "      <td>NaN</td>\n",
       "      <td>NaN</td>\n",
       "      <td>NaN</td>\n",
       "      <td>NaN</td>\n",
       "      <td>NaN</td>\n",
       "    </tr>\n",
       "    <tr>\n",
       "      <th>1</th>\n",
       "      <td>1</td>\n",
       "      <td>what fruit is native to australia</td>\n",
       "      <td>Passiflora herbertiana. A rare passion fruit n...</td>\n",
       "      <td>The kola nut is the fruit of the kola tree, a ...</td>\n",
       "      <td>NaN</td>\n",
       "      <td>NaN</td>\n",
       "      <td>NaN</td>\n",
       "      <td>NaN</td>\n",
       "      <td>NaN</td>\n",
       "      <td>NaN</td>\n",
       "      <td>NaN</td>\n",
       "      <td>NaN</td>\n",
       "      <td>NaN</td>\n",
       "      <td>NaN</td>\n",
       "    </tr>\n",
       "    <tr>\n",
       "      <th>2</th>\n",
       "      <td>2</td>\n",
       "      <td>how large is the canadian military</td>\n",
       "      <td>The Canadian Armed Forces. 1  The first large-...</td>\n",
       "      <td>The Canadian Physician Health Institute (CPHI)...</td>\n",
       "      <td>NaN</td>\n",
       "      <td>NaN</td>\n",
       "      <td>NaN</td>\n",
       "      <td>NaN</td>\n",
       "      <td>NaN</td>\n",
       "      <td>NaN</td>\n",
       "      <td>NaN</td>\n",
       "      <td>NaN</td>\n",
       "      <td>NaN</td>\n",
       "      <td>NaN</td>\n",
       "    </tr>\n",
       "    <tr>\n",
       "      <th>3</th>\n",
       "      <td>3</td>\n",
       "      <td>types of fruit trees</td>\n",
       "      <td>Cherry. Cherry trees are found throughout the ...</td>\n",
       "      <td>The kola nut is the fruit of the kola tree, a ...</td>\n",
       "      <td>NaN</td>\n",
       "      <td>NaN</td>\n",
       "      <td>NaN</td>\n",
       "      <td>NaN</td>\n",
       "      <td>NaN</td>\n",
       "      <td>NaN</td>\n",
       "      <td>NaN</td>\n",
       "      <td>NaN</td>\n",
       "      <td>NaN</td>\n",
       "      <td>NaN</td>\n",
       "    </tr>\n",
       "    <tr>\n",
       "      <th>4</th>\n",
       "      <td>4</td>\n",
       "      <td>how many calories a day are lost breastfeeding</td>\n",
       "      <td>Not only is breastfeeding better for the baby,...</td>\n",
       "      <td>However, you still need some niacin each day; ...</td>\n",
       "      <td>NaN</td>\n",
       "      <td>NaN</td>\n",
       "      <td>NaN</td>\n",
       "      <td>NaN</td>\n",
       "      <td>NaN</td>\n",
       "      <td>NaN</td>\n",
       "      <td>NaN</td>\n",
       "      <td>NaN</td>\n",
       "      <td>NaN</td>\n",
       "      <td>NaN</td>\n",
       "    </tr>\n",
       "  </tbody>\n",
       "</table>\n",
       "</div>"
      ],
      "text/plain": [
       "   ID                                  ORIGINAL_QUERY  \\\n",
       "0   0        is a little caffeine ok during pregnancy   \n",
       "1   1               what fruit is native to australia   \n",
       "2   2              how large is the canadian military   \n",
       "3   3                            types of fruit trees   \n",
       "4   4  how many calories a day are lost breastfeeding   \n",
       "\n",
       "                                    POSITIVE_PASSAGE  \\\n",
       "0  We dont know a lot about the effects of caffei...   \n",
       "1  Passiflora herbertiana. A rare passion fruit n...   \n",
       "2  The Canadian Armed Forces. 1  The first large-...   \n",
       "3  Cherry. Cherry trees are found throughout the ...   \n",
       "4  Not only is breastfeeding better for the baby,...   \n",
       "\n",
       "                                    NEGATIVE_PASSAGE  POSITIVE_QUERY_1  \\\n",
       "0  It is generally safe for pregnant women to eat...               NaN   \n",
       "1  The kola nut is the fruit of the kola tree, a ...               NaN   \n",
       "2  The Canadian Physician Health Institute (CPHI)...               NaN   \n",
       "3  The kola nut is the fruit of the kola tree, a ...               NaN   \n",
       "4  However, you still need some niacin each day; ...               NaN   \n",
       "\n",
       "   POSITIVE_QUERY_2  POSITIVE_QUERY_3  POSITIVE_QUERY_4  POSITIVE_QUERY_5  \\\n",
       "0               NaN               NaN               NaN               NaN   \n",
       "1               NaN               NaN               NaN               NaN   \n",
       "2               NaN               NaN               NaN               NaN   \n",
       "3               NaN               NaN               NaN               NaN   \n",
       "4               NaN               NaN               NaN               NaN   \n",
       "\n",
       "   NEGATIVE_QUERY_1  NEGATIVE_QUERY_2  NEGATIVE_QUERY_3  NEGATIVE_QUERY_4  \\\n",
       "0               NaN               NaN               NaN               NaN   \n",
       "1               NaN               NaN               NaN               NaN   \n",
       "2               NaN               NaN               NaN               NaN   \n",
       "3               NaN               NaN               NaN               NaN   \n",
       "4               NaN               NaN               NaN               NaN   \n",
       "\n",
       "   NEGATIVE_QUERY_5  \n",
       "0               NaN  \n",
       "1               NaN  \n",
       "2               NaN  \n",
       "3               NaN  \n",
       "4               NaN  "
      ]
     },
     "execution_count": 57,
     "metadata": {},
     "output_type": "execute_result"
    }
   ],
   "source": [
    "df_part_new = df_part.reindex(columns = df_part.columns.tolist() + ['POSITIVE_QUERY_1','POSITIVE_QUERY_2','POSITIVE_QUERY_3','POSITIVE_QUERY_4','POSITIVE_QUERY_5','NEGATIVE_QUERY_1','NEGATIVE_QUERY_2','NEGATIVE_QUERY_3','NEGATIVE_QUERY_4','NEGATIVE_QUERY_5'])\n",
    "df_part_new.head()"
   ]
  },
  {
   "cell_type": "code",
   "execution_count": 58,
   "metadata": {},
   "outputs": [],
   "source": [
    "dict_org = df_part_new.to_dict('dict')"
   ]
  },
  {
   "cell_type": "code",
   "execution_count": 61,
   "metadata": {},
   "outputs": [
    {
     "name": "stdout",
     "output_type": "stream",
     "text": [
      "Wall time: 42.9 s\n"
     ]
    },
    {
     "data": {
      "text/html": [
       "<div>\n",
       "<style scoped>\n",
       "    .dataframe tbody tr th:only-of-type {\n",
       "        vertical-align: middle;\n",
       "    }\n",
       "\n",
       "    .dataframe tbody tr th {\n",
       "        vertical-align: top;\n",
       "    }\n",
       "\n",
       "    .dataframe thead th {\n",
       "        text-align: right;\n",
       "    }\n",
       "</style>\n",
       "<table border=\"1\" class=\"dataframe\">\n",
       "  <thead>\n",
       "    <tr style=\"text-align: right;\">\n",
       "      <th></th>\n",
       "      <th>ID</th>\n",
       "      <th>ORIGINAL_QUERY</th>\n",
       "      <th>POSITIVE_PASSAGE</th>\n",
       "      <th>NEGATIVE_PASSAGE</th>\n",
       "      <th>POSITIVE_QUERY_1</th>\n",
       "      <th>POSITIVE_QUERY_2</th>\n",
       "      <th>POSITIVE_QUERY_3</th>\n",
       "      <th>POSITIVE_QUERY_4</th>\n",
       "      <th>POSITIVE_QUERY_5</th>\n",
       "      <th>NEGATIVE_QUERY_1</th>\n",
       "      <th>NEGATIVE_QUERY_2</th>\n",
       "      <th>NEGATIVE_QUERY_3</th>\n",
       "      <th>NEGATIVE_QUERY_4</th>\n",
       "      <th>NEGATIVE_QUERY_5</th>\n",
       "    </tr>\n",
       "  </thead>\n",
       "  <tbody>\n",
       "    <tr>\n",
       "      <th>0</th>\n",
       "      <td>0</td>\n",
       "      <td>is a little caffeine ok during pregnancy</td>\n",
       "      <td>We dont know a lot about the effects of caffei...</td>\n",
       "      <td>It is generally safe for pregnant women to eat...</td>\n",
       "      <td>how much caffeine should you have while pregnant</td>\n",
       "      <td>does coffee affect pregnancy</td>\n",
       "      <td>how much caffeine during pregnancy</td>\n",
       "      <td>how many ounces of caffeine can you drink whil...</td>\n",
       "      <td>what's a normal amount of caffeine to drink wh...</td>\n",
       "      <td>can a pregnant woman eat chocolate</td>\n",
       "      <td>is chocolate safe when pregnant</td>\n",
       "      <td>can pregnant women eat chocolate</td>\n",
       "      <td>can pregnant women eat chocolate</td>\n",
       "      <td>is chocolate safe while pregnant</td>\n",
       "    </tr>\n",
       "    <tr>\n",
       "      <th>1</th>\n",
       "      <td>1</td>\n",
       "      <td>what fruit is native to australia</td>\n",
       "      <td>Passiflora herbertiana. A rare passion fruit n...</td>\n",
       "      <td>The kola nut is the fruit of the kola tree, a ...</td>\n",
       "      <td>what is Passiflora herbertiana</td>\n",
       "      <td>what is passion fruit</td>\n",
       "      <td>what is a passion fruit</td>\n",
       "      <td>what is a passion fruit in australia</td>\n",
       "      <td>why do some passionfruit grow wild</td>\n",
       "      <td>what is the difference between kola nut and ko...</td>\n",
       "      <td>what is kola nut</td>\n",
       "      <td>what is kola nut</td>\n",
       "      <td>where are kola nuts found</td>\n",
       "      <td>where is kola nut found</td>\n",
       "    </tr>\n",
       "    <tr>\n",
       "      <th>2</th>\n",
       "      <td>2</td>\n",
       "      <td>how large is the canadian military</td>\n",
       "      <td>The Canadian Armed Forces. 1  The first large-...</td>\n",
       "      <td>The Canadian Physician Health Institute (CPHI)...</td>\n",
       "      <td>when was peacekeeping started canadian</td>\n",
       "      <td>when did the peacekeeping missions start</td>\n",
       "      <td>what day is peacekeeping in canada</td>\n",
       "      <td>where did peacekeeping begin</td>\n",
       "      <td>when did peacekeeping began?</td>\n",
       "      <td>who is cmf cphi</td>\n",
       "      <td>what is cphi</td>\n",
       "      <td>who is cphi</td>\n",
       "      <td>what is cphi canada</td>\n",
       "      <td>what is the cphi program</td>\n",
       "    </tr>\n",
       "    <tr>\n",
       "      <th>3</th>\n",
       "      <td>3</td>\n",
       "      <td>types of fruit trees</td>\n",
       "      <td>Cherry. Cherry trees are found throughout the ...</td>\n",
       "      <td>The kola nut is the fruit of the kola tree, a ...</td>\n",
       "      <td>different varieties of cherries</td>\n",
       "      <td>why do i grow cherry trees</td>\n",
       "      <td>what kind of fruit do cherry trees grow</td>\n",
       "      <td>where does the cherry tree grow</td>\n",
       "      <td>where are cherries found in the world</td>\n",
       "      <td>where is kola nut from</td>\n",
       "      <td>what is kolanut</td>\n",
       "      <td>where is kola nut from</td>\n",
       "      <td>what is kola nut</td>\n",
       "      <td>what is kola nut</td>\n",
       "    </tr>\n",
       "    <tr>\n",
       "      <th>4</th>\n",
       "      <td>4</td>\n",
       "      <td>how many calories a day are lost breastfeeding</td>\n",
       "      <td>Not only is breastfeeding better for the baby,...</td>\n",
       "      <td>However, you still need some niacin each day; ...</td>\n",
       "      <td>how many calories does breast feeding burn</td>\n",
       "      <td>how many calories do i burn breastfeeding</td>\n",
       "      <td>how many calories burned breastfeeding</td>\n",
       "      <td>calories burned breastfeeding a baby</td>\n",
       "      <td>calories burned breastfeeding</td>\n",
       "      <td>what is the recommended niacin level for women</td>\n",
       "      <td>how much niacin should you take</td>\n",
       "      <td>how much niacin do i need</td>\n",
       "      <td>how much niacin does a woman need daily</td>\n",
       "      <td>how many niacin should i take per day</td>\n",
       "    </tr>\n",
       "  </tbody>\n",
       "</table>\n",
       "</div>"
      ],
      "text/plain": [
       "   ID                                  ORIGINAL_QUERY  \\\n",
       "0   0        is a little caffeine ok during pregnancy   \n",
       "1   1               what fruit is native to australia   \n",
       "2   2              how large is the canadian military   \n",
       "3   3                            types of fruit trees   \n",
       "4   4  how many calories a day are lost breastfeeding   \n",
       "\n",
       "                                    POSITIVE_PASSAGE  \\\n",
       "0  We dont know a lot about the effects of caffei...   \n",
       "1  Passiflora herbertiana. A rare passion fruit n...   \n",
       "2  The Canadian Armed Forces. 1  The first large-...   \n",
       "3  Cherry. Cherry trees are found throughout the ...   \n",
       "4  Not only is breastfeeding better for the baby,...   \n",
       "\n",
       "                                    NEGATIVE_PASSAGE  \\\n",
       "0  It is generally safe for pregnant women to eat...   \n",
       "1  The kola nut is the fruit of the kola tree, a ...   \n",
       "2  The Canadian Physician Health Institute (CPHI)...   \n",
       "3  The kola nut is the fruit of the kola tree, a ...   \n",
       "4  However, you still need some niacin each day; ...   \n",
       "\n",
       "                                   POSITIVE_QUERY_1  \\\n",
       "0  how much caffeine should you have while pregnant   \n",
       "1                    what is Passiflora herbertiana   \n",
       "2            when was peacekeeping started canadian   \n",
       "3                   different varieties of cherries   \n",
       "4        how many calories does breast feeding burn   \n",
       "\n",
       "                            POSITIVE_QUERY_2  \\\n",
       "0               does coffee affect pregnancy   \n",
       "1                      what is passion fruit   \n",
       "2   when did the peacekeeping missions start   \n",
       "3                 why do i grow cherry trees   \n",
       "4  how many calories do i burn breastfeeding   \n",
       "\n",
       "                          POSITIVE_QUERY_3  \\\n",
       "0       how much caffeine during pregnancy   \n",
       "1                  what is a passion fruit   \n",
       "2       what day is peacekeeping in canada   \n",
       "3  what kind of fruit do cherry trees grow   \n",
       "4   how many calories burned breastfeeding   \n",
       "\n",
       "                                    POSITIVE_QUERY_4  \\\n",
       "0  how many ounces of caffeine can you drink whil...   \n",
       "1               what is a passion fruit in australia   \n",
       "2                       where did peacekeeping begin   \n",
       "3                    where does the cherry tree grow   \n",
       "4               calories burned breastfeeding a baby   \n",
       "\n",
       "                                    POSITIVE_QUERY_5  \\\n",
       "0  what's a normal amount of caffeine to drink wh...   \n",
       "1                 why do some passionfruit grow wild   \n",
       "2                       when did peacekeeping began?   \n",
       "3              where are cherries found in the world   \n",
       "4                      calories burned breastfeeding   \n",
       "\n",
       "                                    NEGATIVE_QUERY_1  \\\n",
       "0                 can a pregnant woman eat chocolate   \n",
       "1  what is the difference between kola nut and ko...   \n",
       "2                                    who is cmf cphi   \n",
       "3                             where is kola nut from   \n",
       "4     what is the recommended niacin level for women   \n",
       "\n",
       "                  NEGATIVE_QUERY_2                  NEGATIVE_QUERY_3  \\\n",
       "0  is chocolate safe when pregnant  can pregnant women eat chocolate   \n",
       "1                 what is kola nut                  what is kola nut   \n",
       "2                     what is cphi                       who is cphi   \n",
       "3                  what is kolanut            where is kola nut from   \n",
       "4  how much niacin should you take         how much niacin do i need   \n",
       "\n",
       "                          NEGATIVE_QUERY_4  \\\n",
       "0         can pregnant women eat chocolate   \n",
       "1                where are kola nuts found   \n",
       "2                      what is cphi canada   \n",
       "3                         what is kola nut   \n",
       "4  how much niacin does a woman need daily   \n",
       "\n",
       "                        NEGATIVE_QUERY_5  \n",
       "0       is chocolate safe while pregnant  \n",
       "1                where is kola nut found  \n",
       "2               what is the cphi program  \n",
       "3                       what is kola nut  \n",
       "4  how many niacin should i take per day  "
      ]
     },
     "execution_count": 61,
     "metadata": {},
     "output_type": "execute_result"
    }
   ],
   "source": [
    "%%time\n",
    "dict_org = passage2queryDictMultiple(dict_org)\n",
    "df_part_calc = pd.DataFrame(dict_org)\n",
    "df_part_calc.head()"
   ]
  },
  {
   "cell_type": "code",
   "execution_count": null,
   "metadata": {},
   "outputs": [],
   "source": [
    "df_queries_new = df_queries.reindex(columns = df_queries.columns.tolist() + ['POSITIVE_QUERY_1','POSITIVE_QUERY_2','POSITIVE_QUERY_3','POSITIVE_QUERY_4','POSITIVE_QUERY_5','NEGATIVE_QUERY_1','NEGATIVE_QUERY_2','NEGATIVE_QUERY_3','NEGATIVE_QUERY_4','NEGATIVE_QUERY_5'])\n",
    "df_queries_new.head()\n",
    "dict_queries = df_queries_new.to_dict('dict')\n",
    "dict_queries = passage2queryDictMultiple(dict_queries)\n",
    "df_queries = pd.DataFrame(dict_queries)\n",
    "df_queries.head()"
   ]
  },
  {
   "cell_type": "markdown",
   "metadata": {
    "colab_type": "text",
    "id": "HTgUsNCphATt"
   },
   "source": [
    "## Transformação dos documentos em queries"
   ]
  },
  {
   "cell_type": "code",
   "execution_count": null,
   "metadata": {},
   "outputs": [],
   "source": [
    "compression_opts = dict(method='zip',\n",
    "                        archive_name='checkup_dataframe.csv',\n",
    "                       encoding = 'cp1252')  \n",
    "df_queries.to_csv('checkup_queries_dataframe.zip', index=False,\n",
    "          compression=compression_opts)  "
   ]
  }
 ],
 "metadata": {
  "accelerator": "GPU",
  "colab": {
   "collapsed_sections": [],
   "name": "docTTTTTquery applied to MSMARCO.ipynb",
   "provenance": [],
   "toc_visible": true
  },
  "kernelspec": {
   "display_name": "myenv",
   "language": "python",
   "name": "myenv"
  },
  "language_info": {
   "codemirror_mode": {
    "name": "ipython",
    "version": 3
   },
   "file_extension": ".py",
   "mimetype": "text/x-python",
   "name": "python",
   "nbconvert_exporter": "python",
   "pygments_lexer": "ipython3",
   "version": "3.8.3"
  }
 },
 "nbformat": 4,
 "nbformat_minor": 1
}
