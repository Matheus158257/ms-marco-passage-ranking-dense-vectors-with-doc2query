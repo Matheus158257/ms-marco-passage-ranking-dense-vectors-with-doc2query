{
 "cells": [
  {
   "cell_type": "code",
   "execution_count": 1,
   "metadata": {},
   "outputs": [],
   "source": [
    "ids_path = 'C:\\\\Users\\\\Matheus\\\\Desktop\\\\Pós Graduação\\\\NLP\\\\Projeto\\\\Datasets\\\\MS MARCO 2020\\\\qidpidnidtriples\\\\qidpidtriples.train.full.2.tsv'\n"
   ]
  },
  {
   "cell_type": "code",
   "execution_count": 2,
   "metadata": {},
   "outputs": [],
   "source": [
    "#Bibliotecas Padrão\n",
    "import os\n",
    "import csv"
   ]
  },
  {
   "cell_type": "code",
   "execution_count": 3,
   "metadata": {},
   "outputs": [],
   "source": [
    "import json\n",
    "def read_triple_ids2(path,n_elments = None):\n",
    "    with open('ten_negatives_triples.json', 'w') as f:   \n",
    "        csv_file =  open(path, encoding=\"cp1252\",mode = 'r')\n",
    "        csv_reader = csv.reader(csv_file, delimiter='\\t')\n",
    "        dict_result = {} \n",
    "        for row in csv_reader:\n",
    "#             if len(dict_result)-1 == n_elments:\n",
    "#                 break\n",
    "            \n",
    "            try:\n",
    "                if len(dict_result[row[0] + '|' + row[1]]) <= 10:\n",
    "                    dict_result[row[0] + '|' + row[1]].append(row[2])\n",
    "            except:\n",
    "                dict_result[row[0] + '|' + row[1]] = [row[2]]\n",
    "            \n",
    "            \n",
    "            \n",
    "        \n",
    "        dict_ordered = {}\n",
    "        for i, item in enumerate(dict_result.items()):\n",
    "            dict_ordered[str(i)] = item            \n",
    "            \n",
    "                    \n",
    "        \n",
    "        json.dump(dict_ordered, f)"
   ]
  },
  {
   "cell_type": "code",
   "execution_count": 4,
   "metadata": {},
   "outputs": [],
   "source": [
    "read_triple_ids2(ids_path)"
   ]
  }
 ],
 "metadata": {
  "kernelspec": {
   "display_name": "myenv",
   "language": "python",
   "name": "myenv"
  },
  "language_info": {
   "codemirror_mode": {
    "name": "ipython",
    "version": 3
   },
   "file_extension": ".py",
   "mimetype": "text/x-python",
   "name": "python",
   "nbconvert_exporter": "python",
   "pygments_lexer": "ipython3",
   "version": "3.8.3"
  }
 },
 "nbformat": 4,
 "nbformat_minor": 4
}
