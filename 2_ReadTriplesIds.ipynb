{
 "cells": [
  {
   "cell_type": "code",
   "execution_count": 1,
   "metadata": {},
   "outputs": [],
   "source": [
    "ids_path = 'C:\\\\Users\\\\Matheus\\\\Desktop\\\\Pós Graduação\\\\NLP\\\\Projeto\\\\Datasets\\\\MS MARCO 2020\\\\qidpidnidtriples\\\\qidpidtriples.train.full.2.tsv'\n"
   ]
  },
  {
   "cell_type": "code",
   "execution_count": 2,
   "metadata": {},
   "outputs": [],
   "source": [
    "#Bibliotecas Padrão\n",
    "import os\n",
    "import csv"
   ]
  },
  {
   "cell_type": "code",
   "execution_count": 22,
   "metadata": {},
   "outputs": [],
   "source": [
    "def read_triple_ids(path,n_elments = None):\n",
    "   \n",
    "    csv_file =  open(path, encoding=\"cp1252\",mode = 'r')\n",
    "    csv_reader = csv.reader(csv_file, delimiter='\\t')\n",
    "    rows = []\n",
    "    aux_rows = []\n",
    "    for row in csv_reader:\n",
    "        if [row[0],row[1]] not in aux_rows:\n",
    "            rows.append(row)\n",
    "            aux_rows.append([row[0],row[1]])\n",
    "        \n",
    "        if n_elments and (len(rows) == n_elments):\n",
    "            break\n",
    "       \n",
    "    return rows"
   ]
  },
  {
   "cell_type": "code",
   "execution_count": 10,
   "metadata": {},
   "outputs": [],
   "source": [
    "def read_triple_ids2(path,n_elments = None):\n",
    "    encoding=\"cp1252\"\n",
    "    with open('triples_train.tsv', 'w',newline='') as tsv_file:\n",
    "        tsv_writer = csv.writer(tsv_file, quoting=csv.QUOTE_NONNUMERIC, delimiter='\\t', quotechar='\"')\n",
    "        \n",
    "   \n",
    "        csv_file =  open(path, encoding=\"cp1252\",mode = 'r')\n",
    "        csv_reader = csv.reader(csv_file, delimiter='\\t')\n",
    "        i = 0\n",
    "        for row in csv_reader:\n",
    "\n",
    "            if i ==0:\n",
    "                tsv_writer.writerow(row)\n",
    "                aux = row.copy()\n",
    "                i+=1\n",
    "            else:\n",
    "\n",
    "                if ((row[0] != aux[0]) and (row[1] != aux[1])):\n",
    "                    tsv_writer.writerow(row)\n",
    "                    aux = row.copy()\n",
    "                    i+=1\n",
    "\n",
    "\n",
    "            if n_elments and (i == n_elments):\n",
    "                break\n",
    "                \n",
    "        print(str(i),' lines were created')\n",
    "\n",
    "\n"
   ]
  },
  {
   "cell_type": "code",
   "execution_count": 11,
   "metadata": {},
   "outputs": [
    {
     "name": "stdout",
     "output_type": "stream",
     "text": [
      "400774  lines were created\n"
     ]
    }
   ],
   "source": [
    "read_triple_ids2(ids_path)"
   ]
  }
 ],
 "metadata": {
  "kernelspec": {
   "display_name": "myenv",
   "language": "python",
   "name": "myenv"
  },
  "language_info": {
   "codemirror_mode": {
    "name": "ipython",
    "version": 3
   },
   "file_extension": ".py",
   "mimetype": "text/x-python",
   "name": "python",
   "nbconvert_exporter": "python",
   "pygments_lexer": "ipython3",
   "version": "3.8.3"
  }
 },
 "nbformat": 4,
 "nbformat_minor": 4
}
