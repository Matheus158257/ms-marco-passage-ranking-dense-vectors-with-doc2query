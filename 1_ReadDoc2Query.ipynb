{
 "cells": [
  {
   "cell_type": "code",
   "execution_count": 1,
   "metadata": {},
   "outputs": [],
   "source": [
    "#Folders\n",
    "queries_topk_folder = 'C:\\\\Users\\\\Matheus\\\\Desktop\\\\Pós Graduação\\\\NLP\\\\Projeto\\\\Datasets\\\\MS MARCO 2020\\\\queries_topk'"
   ]
  },
  {
   "cell_type": "code",
   "execution_count": 3,
   "metadata": {},
   "outputs": [],
   "source": [
    "#Bibliotecas Padrão\n",
    "import os\n",
    "import csv"
   ]
  },
  {
   "cell_type": "code",
   "execution_count": 8,
   "metadata": {},
   "outputs": [],
   "source": [
    "def load_txts_topk(folder,k=10,n=18,encoding=\"cp1252\"):\n",
    "    k = k if k<=80 else 80\n",
    "    n = n if n<=18 else 18\n",
    "    nsamples = [i for i in range(0,k)] #[0] ou [0,1,2,3...]\n",
    "    nparts = [i for i in range(0,n)] #cada bloco é de 17\n",
    "    extension_template2 = '-1004000'\n",
    "    \n",
    "    txts = []\n",
    "    i = 0\n",
    "    for sample in nsamples:\n",
    "        rows = []\n",
    "        for part in nparts:\n",
    "            name_template = 'predicted_queries_topk_sample0' if sample>9 else 'predicted_queries_topk_sample00'\n",
    "            extension_template1 = '.txt0' if part>9 else '.txt00'\n",
    "            \n",
    "            file_name = f\"{name_template}{str(sample)}{extension_template1}{str(part)}{extension_template2}\"\n",
    "            path = os.path.join(folder,file_name)\n",
    "            txt_reader = open(path,mode = \"r\",encoding = encoding,errors='ignore')\n",
    "            for i,row in enumerate(txt_reader):\n",
    "                rows.append([i,row.replace(\"\\n\",\"\")])\n",
    "                i+=1\n",
    "\n",
    "        txts.append(rows)\n",
    "    \n",
    "    return txts"
   ]
  },
  {
   "cell_type": "code",
   "execution_count": 9,
   "metadata": {},
   "outputs": [],
   "source": [
    "topk_queries = load_txts_topk(queries_topk_folder)"
   ]
  },
  {
   "cell_type": "code",
   "execution_count": 10,
   "metadata": {},
   "outputs": [
    {
     "name": "stdout",
     "output_type": "stream",
     "text": [
      "Numero de queries geradas:  8841823\n"
     ]
    },
    {
     "data": {
      "text/plain": [
       "[[0, 'what was important to the success of the manhattan project'],\n",
       " [1, 'what were a major contributions to the manhattan effort']]"
      ]
     },
     "execution_count": 10,
     "metadata": {},
     "output_type": "execute_result"
    }
   ],
   "source": [
    "print('Numero de queries geradas: ',len(topk_queries[0]))\n",
    "topk_queries[0][:2]"
   ]
  },
  {
   "cell_type": "code",
   "execution_count": 11,
   "metadata": {},
   "outputs": [],
   "source": [
    "encoding=\"cp1252\"\n",
    "with open('doc2query_onek.tsv', 'w',newline='') as tsv_file:\n",
    "    tsv_writer = csv.writer(tsv_file, quoting=csv.QUOTE_NONNUMERIC, delimiter='\\t', quotechar='\"')\n",
    "\n",
    "    for row in topk_queries[0]:\n",
    "        tsv_writer.writerow(row)"
   ]
  }
 ],
 "metadata": {
  "kernelspec": {
   "display_name": "myenv",
   "language": "python",
   "name": "myenv"
  },
  "language_info": {
   "codemirror_mode": {
    "name": "ipython",
    "version": 3
   },
   "file_extension": ".py",
   "mimetype": "text/x-python",
   "name": "python",
   "nbconvert_exporter": "python",
   "pygments_lexer": "ipython3",
   "version": "3.8.3"
  }
 },
 "nbformat": 4,
 "nbformat_minor": 4
}
